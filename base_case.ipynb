{
 "cells": [
  {
   "cell_type": "code",
   "execution_count": null,
   "metadata": {},
   "outputs": [],
   "source": [
    "import numpy as np\n",
    "import pypsa\n",
    "import pandas as pd\n",
    "import matplotlib.pyplot as plt\n",
    "from pyomo.environ import Constraint\n",
    "import logging"
   ]
  },
  {
   "cell_type": "code",
   "execution_count": null,
   "metadata": {},
   "outputs": [],
   "source": [
    "%matplotlib inline\n",
    "\n",
    "logging.basicConfig(level=\"INFO\")"
   ]
  },
  {
   "cell_type": "code",
   "execution_count": null,
   "metadata": {},
   "outputs": [],
   "source": [
    "prod=pd.read_csv(\"RESMVLVPROD_20201001_20201031 (1).csv\")\n",
    "# Convert the date and hour columns to strings\n",
    "prod['DATE'] = prod['DATE'].astype(str)\n",
    "prod['HOUR'] = prod['HOUR'].astype(str)\n",
    "# Pad the hour values with leading zeros if necessary\n",
    "prod['HOUR'] = prod['HOUR'].str.zfill(2)\n",
    "# Adjust hour '24' to '00' and increment the date by one DATE\n",
    "prod.loc[prod['HOUR'] == '24', 'HOUR'] = '00'\n",
    "prod['DATE'] = pd.to_datetime(prod['DATE'], format='%Y%m%d')\n",
    "prod.loc[prod['HOUR'] == '00', 'DATE'] += pd.DateOffset(days=1)\n",
    "prod['DATE'] = prod['DATE'].dt.strftime('%Y-%m-%d')\n",
    "prod['datetime'] = prod['DATE'] + ' ' + prod['HOUR'] + ':00:00'\n",
    "prod['datetime'] = pd.to_datetime(prod['datetime'])\n",
    "prod.set_index(['datetime'],inplace=True)\n",
    "start_date = pd.Timestamp('2020-10-25 00:00:00')\n",
    "end_date = pd.Timestamp('2020-10-31 23:00:00')\n",
    "prod=prod[start_date:end_date]\n",
    "prod['ENERGY(MWh)']=prod['ENERGY(MWh)']/2000\n",
    "prod\n"
   ]
  },
  {
   "cell_type": "code",
   "execution_count": null,
   "metadata": {},
   "outputs": [],
   "source": [
    "cons = pd.read_csv(\"HVCUSTCONS_20201001_20201031 (1).csv\")\n",
    "#20201025,25,724.9618378,37.28140312\n",
    "\n",
    "# Convert the date and hour columns to strings\n",
    "cons['date'] = cons['date'].astype(str)\n",
    "cons['hour'] = cons['hour'].astype(str)\n",
    "\n",
    "# Pad the hour values with leading zeros if necessary\n",
    "cons['hour'] = cons['hour'].str.zfill(2)\n",
    "\n",
    "# Adjust hour '24' to '00' and increment the date by one day\n",
    "cons.loc[cons['hour'] == '24', 'hour'] = '00'\n",
    "cons['date'] = pd.to_datetime(cons['date'], format='%Y%m%d')\n",
    "cons.loc[cons['hour'] == '00', 'date'] += pd.DateOffset(days=1)\n",
    "cons['date'] = cons['date'].dt.strftime('%Y-%m-%d')\n",
    "\n",
    "# Merge the date and hour columns\n",
    "cons['datetime'] = cons['date'] + ' ' + cons['hour'] + ':00:00'\n",
    "\n",
    "# Optionally, convert the 'datetime' column to a datetime data type\n",
    "cons['datetime'] = pd.to_datetime(cons['datetime'])\n",
    "cons.set_index(['datetime'],inplace=True)\n",
    "start_date = pd.Timestamp('2020-10-25 00:00:00')\n",
    "end_date = pd.Timestamp('2020-10-31 23:00:00')\n",
    "cons=cons[start_date:end_date]\n",
    "cons['energy(MWh)']=cons['energy(MWh)']/1000\n",
    "#cons"
   ]
  },
  {
   "cell_type": "code",
   "execution_count": null,
   "metadata": {},
   "outputs": [],
   "source": [
    "network = pypsa.Network()\n",
    "network.set_snapshots(prod.index)\n",
    "#network.snapshots"
   ]
  },
  {
   "cell_type": "code",
   "execution_count": null,
   "metadata": {},
   "outputs": [],
   "source": [
    "network.add(\"Bus\", \"Coal\", carrier='AC')\n",
    "network.add(\"Carrier\", \"coal\", co2_emissions=0.2)\n",
    "\n",
    "#network.add(\"Bus\", \"Solar\", carrier=\"AC\")\n",
    "#network.add(\"Carrier\", \"Solar\")\n",
    "\n",
    "#network.add(\"Bus\",\"Load Bus\")\n",
    "\n",
    "#network.add(\"Line\",\"Line1\",bus0=\"Coal\",bus1=\"Load Bus\",r=0.01,x=0.1)\n",
    "#network.add(\"Line\",\"Line2\",bus0=\"Solar\",bus1=\"Load Bus\",r=0.01,x=0.1)\n",
    "\n",
    "network.add(\"GlobalConstraint\", \"co2_limit\", sense=\"<=\", constant=0.0)\n",
    "\n",
    "network.add(\n",
    "    \"Generator\",\n",
    "    \"Coal Gen\",\n",
    "    bus=\"Coal\",\n",
    "    carrier=\"coal\",\n",
    "    p_nom=1, #MW \n",
    "    p_nom_extendable=False,\n",
    "    #committable=True,\n",
    "    p_set=1,\n",
    "    #p_max_pu=1,\n",
    "    p_min_pu=0,\n",
    "    control=\"PQ\",\n",
    "    capital_cost=100, #currency/MW\n",
    "    #marginal_cost=  #currency/MWh \n",
    "    )\n",
    "\n",
    "network.add(\n",
    "    \"Generator\",\n",
    "    \"PV Park\",\n",
    "    bus=\"Coal\",\n",
    "    #carrier=\"Solar\",\n",
    "    control=\"PQ\",\n",
    "    p_nom=1, #MW \n",
    "    p_nom_extendable=True,\n",
    "    p_set=np.array(prod['ENERGY(MWh)']),\n",
    "    p_max_pu=np.array(prod['ENERGY(MWh)']),\n",
    "    p_min_pu=np.array(prod['ENERGY(MWh)']),\n",
    "    capital_cost=300, #currency/MW\n",
    "    #marginal_cost=  #currency/MWh\n",
    "    #p=max_pu * p_nom   \n",
    "    )\n",
    "\n",
    "network.add(\"Load\", \"load 1\", bus=\"Coal\", p_set=np.array(cons['energy(MWh)']))\n",
    "#network.add(\"Store\", \"store\", bus=\"Solar\", carrier=\"Solar\", e_initial=True, e_nom_extendable=True)\n"
   ]
  },
  {
   "cell_type": "code",
   "execution_count": null,
   "metadata": {},
   "outputs": [],
   "source": [
    "network.lpf()\n",
    "#network.optimize()"
   ]
  },
  {
   "cell_type": "code",
   "execution_count": null,
   "metadata": {},
   "outputs": [],
   "source": [
    "network.iplot()"
   ]
  },
  {
   "cell_type": "code",
   "execution_count": null,
   "metadata": {},
   "outputs": [],
   "source": [
    "network.buses"
   ]
  },
  {
   "cell_type": "code",
   "execution_count": null,
   "metadata": {},
   "outputs": [],
   "source": [
    "network.loads_t.p"
   ]
  },
  {
   "cell_type": "code",
   "execution_count": null,
   "metadata": {},
   "outputs": [],
   "source": [
    "network.generators_t.p"
   ]
  },
  {
   "cell_type": "code",
   "execution_count": null,
   "metadata": {},
   "outputs": [],
   "source": [
    "network.generators.loc[\"Coal Gen\"]"
   ]
  },
  {
   "cell_type": "code",
   "execution_count": null,
   "metadata": {},
   "outputs": [],
   "source": [
    "network.generators_t.p.plot(ylabel='ΜW')\n",
    "network.loads_t.p.plot(ylabel='ΜW')"
   ]
  }
 ],
 "metadata": {
  "kernelspec": {
   "display_name": "test2",
   "language": "python",
   "name": "python3"
  },
  "language_info": {
   "codemirror_mode": {
    "name": "ipython",
    "version": 3
   },
   "file_extension": ".py",
   "mimetype": "text/x-python",
   "name": "python",
   "nbconvert_exporter": "python",
   "pygments_lexer": "ipython3",
   "version": "3.11.3"
  },
  "orig_nbformat": 4
 },
 "nbformat": 4,
 "nbformat_minor": 2
}
