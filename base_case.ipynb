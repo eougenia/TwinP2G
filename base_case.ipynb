{
 "cells": [
  {
   "cell_type": "code",
   "execution_count": 98,
   "metadata": {},
   "outputs": [],
   "source": [
    "import numpy as np\n",
    "import pypsa\n",
    "import pandas as pd\n",
    "import matplotlib.pyplot as plt\n",
    "from pyomo.environ import Constraint\n",
    "import logging"
   ]
  },
  {
   "cell_type": "code",
   "execution_count": 99,
   "metadata": {},
   "outputs": [],
   "source": [
    "%matplotlib inline\n",
    "\n",
    "logging.basicConfig(level=\"INFO\")"
   ]
  },
  {
   "cell_type": "code",
   "execution_count": 100,
   "metadata": {},
   "outputs": [
    {
     "data": {
      "text/html": [
       "<div>\n",
       "<style scoped>\n",
       "    .dataframe tbody tr th:only-of-type {\n",
       "        vertical-align: middle;\n",
       "    }\n",
       "\n",
       "    .dataframe tbody tr th {\n",
       "        vertical-align: top;\n",
       "    }\n",
       "\n",
       "    .dataframe thead th {\n",
       "        text-align: right;\n",
       "    }\n",
       "</style>\n",
       "<table border=\"1\" class=\"dataframe\">\n",
       "  <thead>\n",
       "    <tr style=\"text-align: right;\">\n",
       "      <th></th>\n",
       "      <th>DATE</th>\n",
       "      <th>HOUR</th>\n",
       "      <th>ENERGY(MWh)</th>\n",
       "    </tr>\n",
       "    <tr>\n",
       "      <th>datetime</th>\n",
       "      <th></th>\n",
       "      <th></th>\n",
       "      <th></th>\n",
       "    </tr>\n",
       "  </thead>\n",
       "  <tbody>\n",
       "    <tr>\n",
       "      <th>2020-10-25 00:00:00</th>\n",
       "      <td>2020-10-25</td>\n",
       "      <td>00</td>\n",
       "      <td>0.062189</td>\n",
       "    </tr>\n",
       "    <tr>\n",
       "      <th>2020-10-25 01:00:00</th>\n",
       "      <td>2020-10-25</td>\n",
       "      <td>01</td>\n",
       "      <td>0.061279</td>\n",
       "    </tr>\n",
       "    <tr>\n",
       "      <th>2020-10-25 02:00:00</th>\n",
       "      <td>2020-10-25</td>\n",
       "      <td>02</td>\n",
       "      <td>0.061284</td>\n",
       "    </tr>\n",
       "    <tr>\n",
       "      <th>2020-10-25 03:00:00</th>\n",
       "      <td>2020-10-25</td>\n",
       "      <td>03</td>\n",
       "      <td>0.060697</td>\n",
       "    </tr>\n",
       "    <tr>\n",
       "      <th>2020-10-25 04:00:00</th>\n",
       "      <td>2020-10-25</td>\n",
       "      <td>04</td>\n",
       "      <td>0.059399</td>\n",
       "    </tr>\n",
       "    <tr>\n",
       "      <th>...</th>\n",
       "      <td>...</td>\n",
       "      <td>...</td>\n",
       "      <td>...</td>\n",
       "    </tr>\n",
       "    <tr>\n",
       "      <th>2020-10-31 19:00:00</th>\n",
       "      <td>2020-10-31</td>\n",
       "      <td>19</td>\n",
       "      <td>0.078057</td>\n",
       "    </tr>\n",
       "    <tr>\n",
       "      <th>2020-10-31 20:00:00</th>\n",
       "      <td>2020-10-31</td>\n",
       "      <td>20</td>\n",
       "      <td>0.084492</td>\n",
       "    </tr>\n",
       "    <tr>\n",
       "      <th>2020-10-31 21:00:00</th>\n",
       "      <td>2020-10-31</td>\n",
       "      <td>21</td>\n",
       "      <td>0.083528</td>\n",
       "    </tr>\n",
       "    <tr>\n",
       "      <th>2020-10-31 22:00:00</th>\n",
       "      <td>2020-10-31</td>\n",
       "      <td>22</td>\n",
       "      <td>0.077178</td>\n",
       "    </tr>\n",
       "    <tr>\n",
       "      <th>2020-10-31 23:00:00</th>\n",
       "      <td>2020-10-31</td>\n",
       "      <td>23</td>\n",
       "      <td>0.073442</td>\n",
       "    </tr>\n",
       "  </tbody>\n",
       "</table>\n",
       "<p>168 rows × 3 columns</p>\n",
       "</div>"
      ],
      "text/plain": [
       "                           DATE HOUR  ENERGY(MWh)\n",
       "datetime                                         \n",
       "2020-10-25 00:00:00  2020-10-25   00     0.062189\n",
       "2020-10-25 01:00:00  2020-10-25   01     0.061279\n",
       "2020-10-25 02:00:00  2020-10-25   02     0.061284\n",
       "2020-10-25 03:00:00  2020-10-25   03     0.060697\n",
       "2020-10-25 04:00:00  2020-10-25   04     0.059399\n",
       "...                         ...  ...          ...\n",
       "2020-10-31 19:00:00  2020-10-31   19     0.078057\n",
       "2020-10-31 20:00:00  2020-10-31   20     0.084492\n",
       "2020-10-31 21:00:00  2020-10-31   21     0.083528\n",
       "2020-10-31 22:00:00  2020-10-31   22     0.077178\n",
       "2020-10-31 23:00:00  2020-10-31   23     0.073442\n",
       "\n",
       "[168 rows x 3 columns]"
      ]
     },
     "execution_count": 100,
     "metadata": {},
     "output_type": "execute_result"
    }
   ],
   "source": [
    "prod=pd.read_csv(\"RESMVLVPROD_20201001_20201031 (1).csv\")\n",
    "# Convert the date and hour columns to strings\n",
    "prod['DATE'] = prod['DATE'].astype(str)\n",
    "prod['HOUR'] = prod['HOUR'].astype(str)\n",
    "# Pad the hour values with leading zeros if necessary\n",
    "prod['HOUR'] = prod['HOUR'].str.zfill(2)\n",
    "# Adjust hour '24' to '00' and increment the date by one DATE\n",
    "prod.loc[prod['HOUR'] == '24', 'HOUR'] = '00'\n",
    "prod['DATE'] = pd.to_datetime(prod['DATE'], format='%Y%m%d')\n",
    "prod.loc[prod['HOUR'] == '00', 'DATE'] += pd.DateOffset(days=1)\n",
    "prod['DATE'] = prod['DATE'].dt.strftime('%Y-%m-%d')\n",
    "prod['datetime'] = prod['DATE'] + ' ' + prod['HOUR'] + ':00:00'\n",
    "prod['datetime'] = pd.to_datetime(prod['datetime'])\n",
    "prod.set_index(['datetime'],inplace=True)\n",
    "start_date = pd.Timestamp('2020-10-25 00:00:00')\n",
    "end_date = pd.Timestamp('2020-10-31 23:00:00')\n",
    "prod=prod[start_date:end_date]\n",
    "prod['ENERGY(MWh)']=prod['ENERGY(MWh)']/2000\n",
    "prod\n"
   ]
  },
  {
   "cell_type": "code",
   "execution_count": 101,
   "metadata": {},
   "outputs": [],
   "source": [
    "cons = pd.read_csv(\"HVCUSTCONS_20201001_20201031 (1).csv\")\n",
    "#20201025,25,724.9618378,37.28140312\n",
    "\n",
    "# Convert the date and hour columns to strings\n",
    "cons['date'] = cons['date'].astype(str)\n",
    "cons['hour'] = cons['hour'].astype(str)\n",
    "\n",
    "# Pad the hour values with leading zeros if necessary\n",
    "cons['hour'] = cons['hour'].str.zfill(2)\n",
    "\n",
    "# Adjust hour '24' to '00' and increment the date by one day\n",
    "cons.loc[cons['hour'] == '24', 'hour'] = '00'\n",
    "cons['date'] = pd.to_datetime(cons['date'], format='%Y%m%d')\n",
    "cons.loc[cons['hour'] == '00', 'date'] += pd.DateOffset(days=1)\n",
    "cons['date'] = cons['date'].dt.strftime('%Y-%m-%d')\n",
    "\n",
    "# Merge the date and hour columns\n",
    "cons['datetime'] = cons['date'] + ' ' + cons['hour'] + ':00:00'\n",
    "\n",
    "# Optionally, convert the 'datetime' column to a datetime data type\n",
    "cons['datetime'] = pd.to_datetime(cons['datetime'])\n",
    "cons.set_index(['datetime'],inplace=True)\n",
    "start_date = pd.Timestamp('2020-10-25 00:00:00')\n",
    "end_date = pd.Timestamp('2020-10-31 23:00:00')\n",
    "cons=cons[start_date:end_date]\n",
    "cons['energy(MWh)']=cons['energy(MWh)']/1000\n",
    "#cons"
   ]
  },
  {
   "cell_type": "code",
   "execution_count": 102,
   "metadata": {},
   "outputs": [],
   "source": [
    "network = pypsa.Network()\n",
    "network.set_snapshots(prod.index)\n",
    "#network.snapshots"
   ]
  },
  {
   "cell_type": "code",
   "execution_count": 103,
   "metadata": {},
   "outputs": [],
   "source": [
    "network.add(\"Bus\", \"Coal\", carrier='AC')\n",
    "network.add(\"Carrier\", \"coal\", co2_emissions=0.2)\n",
    "\n",
    "#network.add(\"Bus\", \"Solar\", carrier=\"AC\")\n",
    "#network.add(\"Carrier\", \"Solar\")\n",
    "\n",
    "#network.add(\"Bus\",\"Load Bus\")\n",
    "\n",
    "#network.add(\"Line\",\"Line1\",bus0=\"Coal\",bus1=\"Load Bus\",r=0.01,x=0.1)\n",
    "#network.add(\"Line\",\"Line2\",bus0=\"Solar\",bus1=\"Load Bus\",r=0.01,x=0.1)\n",
    "\n",
    "network.add(\"GlobalConstraint\", \"co2_limit\", sense=\"<=\", constant=0.0)\n",
    "\n",
    "network.add(\n",
    "    \"Generator\",\n",
    "    \"Coal Gen\",\n",
    "    bus=\"Coal\",\n",
    "    carrier=\"coal\",\n",
    "    p_nom=1, #MW \n",
    "    p_nom_extendable=False,\n",
    "    #committable=True,\n",
    "    p_set=1,\n",
    "    #p_max_pu=1,\n",
    "    p_min_pu=0,\n",
    "    control=\"PQ\",\n",
    "    capital_cost=100, #currency/MW\n",
    "    #marginal_cost=  #currency/MWh \n",
    "    )\n",
    "\n",
    "network.add(\n",
    "    \"Generator\",\n",
    "    \"PV Park\",\n",
    "    bus=\"Coal\",\n",
    "    #carrier=\"Solar\",\n",
    "    control=\"PQ\",\n",
    "    p_nom=1, #MW \n",
    "    p_nom_extendable=True,\n",
    "    p_set=np.array(prod['ENERGY(MWh)']),\n",
    "    p_max_pu=np.array(prod['ENERGY(MWh)']),\n",
    "    p_min_pu=np.array(prod['ENERGY(MWh)']),\n",
    "    capital_cost=300, #currency/MW\n",
    "    #marginal_cost=  #currency/MWh\n",
    "    #p=max_pu * p_nom   \n",
    "    )\n",
    "\n",
    "network.add(\"Load\", \"load 1\", bus=\"Coal\", p_set=np.array(cons['energy(MWh)']))\n",
    "#network.add(\"Store\", \"store\", bus=\"Solar\", carrier=\"Solar\", e_initial=True, e_nom_extendable=True)\n"
   ]
  },
  {
   "cell_type": "code",
   "execution_count": 104,
   "metadata": {},
   "outputs": [
    {
     "name": "stderr",
     "output_type": "stream",
     "text": [
      "INFO:pypsa.pf:Performing linear load-flow on AC sub-network SubNetwork 0 for snapshot(s) DatetimeIndex(['2020-10-25 00:00:00', '2020-10-25 01:00:00',\n",
      "               '2020-10-25 02:00:00', '2020-10-25 03:00:00',\n",
      "               '2020-10-25 04:00:00', '2020-10-25 05:00:00',\n",
      "               '2020-10-25 06:00:00', '2020-10-25 07:00:00',\n",
      "               '2020-10-25 08:00:00', '2020-10-25 09:00:00',\n",
      "               ...\n",
      "               '2020-10-31 14:00:00', '2020-10-31 15:00:00',\n",
      "               '2020-10-31 16:00:00', '2020-10-31 17:00:00',\n",
      "               '2020-10-31 18:00:00', '2020-10-31 19:00:00',\n",
      "               '2020-10-31 20:00:00', '2020-10-31 21:00:00',\n",
      "               '2020-10-31 22:00:00', '2020-10-31 23:00:00'],\n",
      "              dtype='datetime64[ns]', name='snapshot', length=168, freq=None)\n"
     ]
    }
   ],
   "source": [
    "network.lpf()\n",
    "#network.optimize()"
   ]
  },
  {
   "cell_type": "code",
   "execution_count": 105,
   "metadata": {},
   "outputs": [
    {
     "data": {
      "application/vnd.plotly.v1+json": {
       "config": {
        "linkText": "Export to plot.ly",
        "plotlyServerURL": "https://plot.ly",
        "showLink": false
       },
       "data": [
        {
         "hoverinfo": "text",
         "marker": {
          "color": "cadetblue",
          "size": 10
         },
         "mode": "markers",
         "opacity": 1,
         "text": [
          "Bus Coal"
         ],
         "type": "scatter",
         "x": [
          0
         ],
         "y": [
          0
         ]
        }
       ],
       "layout": {
        "hovermode": "closest",
        "showlegend": false,
        "template": {
         "data": {
          "bar": [
           {
            "error_x": {
             "color": "#2a3f5f"
            },
            "error_y": {
             "color": "#2a3f5f"
            },
            "marker": {
             "line": {
              "color": "#E5ECF6",
              "width": 0.5
             },
             "pattern": {
              "fillmode": "overlay",
              "size": 10,
              "solidity": 0.2
             }
            },
            "type": "bar"
           }
          ],
          "barpolar": [
           {
            "marker": {
             "line": {
              "color": "#E5ECF6",
              "width": 0.5
             },
             "pattern": {
              "fillmode": "overlay",
              "size": 10,
              "solidity": 0.2
             }
            },
            "type": "barpolar"
           }
          ],
          "carpet": [
           {
            "aaxis": {
             "endlinecolor": "#2a3f5f",
             "gridcolor": "white",
             "linecolor": "white",
             "minorgridcolor": "white",
             "startlinecolor": "#2a3f5f"
            },
            "baxis": {
             "endlinecolor": "#2a3f5f",
             "gridcolor": "white",
             "linecolor": "white",
             "minorgridcolor": "white",
             "startlinecolor": "#2a3f5f"
            },
            "type": "carpet"
           }
          ],
          "choropleth": [
           {
            "colorbar": {
             "outlinewidth": 0,
             "ticks": ""
            },
            "type": "choropleth"
           }
          ],
          "contour": [
           {
            "colorbar": {
             "outlinewidth": 0,
             "ticks": ""
            },
            "colorscale": [
             [
              0,
              "#0d0887"
             ],
             [
              0.1111111111111111,
              "#46039f"
             ],
             [
              0.2222222222222222,
              "#7201a8"
             ],
             [
              0.3333333333333333,
              "#9c179e"
             ],
             [
              0.4444444444444444,
              "#bd3786"
             ],
             [
              0.5555555555555556,
              "#d8576b"
             ],
             [
              0.6666666666666666,
              "#ed7953"
             ],
             [
              0.7777777777777778,
              "#fb9f3a"
             ],
             [
              0.8888888888888888,
              "#fdca26"
             ],
             [
              1,
              "#f0f921"
             ]
            ],
            "type": "contour"
           }
          ],
          "contourcarpet": [
           {
            "colorbar": {
             "outlinewidth": 0,
             "ticks": ""
            },
            "type": "contourcarpet"
           }
          ],
          "heatmap": [
           {
            "colorbar": {
             "outlinewidth": 0,
             "ticks": ""
            },
            "colorscale": [
             [
              0,
              "#0d0887"
             ],
             [
              0.1111111111111111,
              "#46039f"
             ],
             [
              0.2222222222222222,
              "#7201a8"
             ],
             [
              0.3333333333333333,
              "#9c179e"
             ],
             [
              0.4444444444444444,
              "#bd3786"
             ],
             [
              0.5555555555555556,
              "#d8576b"
             ],
             [
              0.6666666666666666,
              "#ed7953"
             ],
             [
              0.7777777777777778,
              "#fb9f3a"
             ],
             [
              0.8888888888888888,
              "#fdca26"
             ],
             [
              1,
              "#f0f921"
             ]
            ],
            "type": "heatmap"
           }
          ],
          "heatmapgl": [
           {
            "colorbar": {
             "outlinewidth": 0,
             "ticks": ""
            },
            "colorscale": [
             [
              0,
              "#0d0887"
             ],
             [
              0.1111111111111111,
              "#46039f"
             ],
             [
              0.2222222222222222,
              "#7201a8"
             ],
             [
              0.3333333333333333,
              "#9c179e"
             ],
             [
              0.4444444444444444,
              "#bd3786"
             ],
             [
              0.5555555555555556,
              "#d8576b"
             ],
             [
              0.6666666666666666,
              "#ed7953"
             ],
             [
              0.7777777777777778,
              "#fb9f3a"
             ],
             [
              0.8888888888888888,
              "#fdca26"
             ],
             [
              1,
              "#f0f921"
             ]
            ],
            "type": "heatmapgl"
           }
          ],
          "histogram": [
           {
            "marker": {
             "pattern": {
              "fillmode": "overlay",
              "size": 10,
              "solidity": 0.2
             }
            },
            "type": "histogram"
           }
          ],
          "histogram2d": [
           {
            "colorbar": {
             "outlinewidth": 0,
             "ticks": ""
            },
            "colorscale": [
             [
              0,
              "#0d0887"
             ],
             [
              0.1111111111111111,
              "#46039f"
             ],
             [
              0.2222222222222222,
              "#7201a8"
             ],
             [
              0.3333333333333333,
              "#9c179e"
             ],
             [
              0.4444444444444444,
              "#bd3786"
             ],
             [
              0.5555555555555556,
              "#d8576b"
             ],
             [
              0.6666666666666666,
              "#ed7953"
             ],
             [
              0.7777777777777778,
              "#fb9f3a"
             ],
             [
              0.8888888888888888,
              "#fdca26"
             ],
             [
              1,
              "#f0f921"
             ]
            ],
            "type": "histogram2d"
           }
          ],
          "histogram2dcontour": [
           {
            "colorbar": {
             "outlinewidth": 0,
             "ticks": ""
            },
            "colorscale": [
             [
              0,
              "#0d0887"
             ],
             [
              0.1111111111111111,
              "#46039f"
             ],
             [
              0.2222222222222222,
              "#7201a8"
             ],
             [
              0.3333333333333333,
              "#9c179e"
             ],
             [
              0.4444444444444444,
              "#bd3786"
             ],
             [
              0.5555555555555556,
              "#d8576b"
             ],
             [
              0.6666666666666666,
              "#ed7953"
             ],
             [
              0.7777777777777778,
              "#fb9f3a"
             ],
             [
              0.8888888888888888,
              "#fdca26"
             ],
             [
              1,
              "#f0f921"
             ]
            ],
            "type": "histogram2dcontour"
           }
          ],
          "mesh3d": [
           {
            "colorbar": {
             "outlinewidth": 0,
             "ticks": ""
            },
            "type": "mesh3d"
           }
          ],
          "parcoords": [
           {
            "line": {
             "colorbar": {
              "outlinewidth": 0,
              "ticks": ""
             }
            },
            "type": "parcoords"
           }
          ],
          "pie": [
           {
            "automargin": true,
            "type": "pie"
           }
          ],
          "scatter": [
           {
            "fillpattern": {
             "fillmode": "overlay",
             "size": 10,
             "solidity": 0.2
            },
            "type": "scatter"
           }
          ],
          "scatter3d": [
           {
            "line": {
             "colorbar": {
              "outlinewidth": 0,
              "ticks": ""
             }
            },
            "marker": {
             "colorbar": {
              "outlinewidth": 0,
              "ticks": ""
             }
            },
            "type": "scatter3d"
           }
          ],
          "scattercarpet": [
           {
            "marker": {
             "colorbar": {
              "outlinewidth": 0,
              "ticks": ""
             }
            },
            "type": "scattercarpet"
           }
          ],
          "scattergeo": [
           {
            "marker": {
             "colorbar": {
              "outlinewidth": 0,
              "ticks": ""
             }
            },
            "type": "scattergeo"
           }
          ],
          "scattergl": [
           {
            "marker": {
             "colorbar": {
              "outlinewidth": 0,
              "ticks": ""
             }
            },
            "type": "scattergl"
           }
          ],
          "scattermapbox": [
           {
            "marker": {
             "colorbar": {
              "outlinewidth": 0,
              "ticks": ""
             }
            },
            "type": "scattermapbox"
           }
          ],
          "scatterpolar": [
           {
            "marker": {
             "colorbar": {
              "outlinewidth": 0,
              "ticks": ""
             }
            },
            "type": "scatterpolar"
           }
          ],
          "scatterpolargl": [
           {
            "marker": {
             "colorbar": {
              "outlinewidth": 0,
              "ticks": ""
             }
            },
            "type": "scatterpolargl"
           }
          ],
          "scatterternary": [
           {
            "marker": {
             "colorbar": {
              "outlinewidth": 0,
              "ticks": ""
             }
            },
            "type": "scatterternary"
           }
          ],
          "surface": [
           {
            "colorbar": {
             "outlinewidth": 0,
             "ticks": ""
            },
            "colorscale": [
             [
              0,
              "#0d0887"
             ],
             [
              0.1111111111111111,
              "#46039f"
             ],
             [
              0.2222222222222222,
              "#7201a8"
             ],
             [
              0.3333333333333333,
              "#9c179e"
             ],
             [
              0.4444444444444444,
              "#bd3786"
             ],
             [
              0.5555555555555556,
              "#d8576b"
             ],
             [
              0.6666666666666666,
              "#ed7953"
             ],
             [
              0.7777777777777778,
              "#fb9f3a"
             ],
             [
              0.8888888888888888,
              "#fdca26"
             ],
             [
              1,
              "#f0f921"
             ]
            ],
            "type": "surface"
           }
          ],
          "table": [
           {
            "cells": {
             "fill": {
              "color": "#EBF0F8"
             },
             "line": {
              "color": "white"
             }
            },
            "header": {
             "fill": {
              "color": "#C8D4E3"
             },
             "line": {
              "color": "white"
             }
            },
            "type": "table"
           }
          ]
         },
         "layout": {
          "annotationdefaults": {
           "arrowcolor": "#2a3f5f",
           "arrowhead": 0,
           "arrowwidth": 1
          },
          "autotypenumbers": "strict",
          "coloraxis": {
           "colorbar": {
            "outlinewidth": 0,
            "ticks": ""
           }
          },
          "colorscale": {
           "diverging": [
            [
             0,
             "#8e0152"
            ],
            [
             0.1,
             "#c51b7d"
            ],
            [
             0.2,
             "#de77ae"
            ],
            [
             0.3,
             "#f1b6da"
            ],
            [
             0.4,
             "#fde0ef"
            ],
            [
             0.5,
             "#f7f7f7"
            ],
            [
             0.6,
             "#e6f5d0"
            ],
            [
             0.7,
             "#b8e186"
            ],
            [
             0.8,
             "#7fbc41"
            ],
            [
             0.9,
             "#4d9221"
            ],
            [
             1,
             "#276419"
            ]
           ],
           "sequential": [
            [
             0,
             "#0d0887"
            ],
            [
             0.1111111111111111,
             "#46039f"
            ],
            [
             0.2222222222222222,
             "#7201a8"
            ],
            [
             0.3333333333333333,
             "#9c179e"
            ],
            [
             0.4444444444444444,
             "#bd3786"
            ],
            [
             0.5555555555555556,
             "#d8576b"
            ],
            [
             0.6666666666666666,
             "#ed7953"
            ],
            [
             0.7777777777777778,
             "#fb9f3a"
            ],
            [
             0.8888888888888888,
             "#fdca26"
            ],
            [
             1,
             "#f0f921"
            ]
           ],
           "sequentialminus": [
            [
             0,
             "#0d0887"
            ],
            [
             0.1111111111111111,
             "#46039f"
            ],
            [
             0.2222222222222222,
             "#7201a8"
            ],
            [
             0.3333333333333333,
             "#9c179e"
            ],
            [
             0.4444444444444444,
             "#bd3786"
            ],
            [
             0.5555555555555556,
             "#d8576b"
            ],
            [
             0.6666666666666666,
             "#ed7953"
            ],
            [
             0.7777777777777778,
             "#fb9f3a"
            ],
            [
             0.8888888888888888,
             "#fdca26"
            ],
            [
             1,
             "#f0f921"
            ]
           ]
          },
          "colorway": [
           "#636efa",
           "#EF553B",
           "#00cc96",
           "#ab63fa",
           "#FFA15A",
           "#19d3f3",
           "#FF6692",
           "#B6E880",
           "#FF97FF",
           "#FECB52"
          ],
          "font": {
           "color": "#2a3f5f"
          },
          "geo": {
           "bgcolor": "white",
           "lakecolor": "white",
           "landcolor": "#E5ECF6",
           "showlakes": true,
           "showland": true,
           "subunitcolor": "white"
          },
          "hoverlabel": {
           "align": "left"
          },
          "hovermode": "closest",
          "mapbox": {
           "style": "light"
          },
          "paper_bgcolor": "white",
          "plot_bgcolor": "#E5ECF6",
          "polar": {
           "angularaxis": {
            "gridcolor": "white",
            "linecolor": "white",
            "ticks": ""
           },
           "bgcolor": "#E5ECF6",
           "radialaxis": {
            "gridcolor": "white",
            "linecolor": "white",
            "ticks": ""
           }
          },
          "scene": {
           "xaxis": {
            "backgroundcolor": "#E5ECF6",
            "gridcolor": "white",
            "gridwidth": 2,
            "linecolor": "white",
            "showbackground": true,
            "ticks": "",
            "zerolinecolor": "white"
           },
           "yaxis": {
            "backgroundcolor": "#E5ECF6",
            "gridcolor": "white",
            "gridwidth": 2,
            "linecolor": "white",
            "showbackground": true,
            "ticks": "",
            "zerolinecolor": "white"
           },
           "zaxis": {
            "backgroundcolor": "#E5ECF6",
            "gridcolor": "white",
            "gridwidth": 2,
            "linecolor": "white",
            "showbackground": true,
            "ticks": "",
            "zerolinecolor": "white"
           }
          },
          "shapedefaults": {
           "line": {
            "color": "#2a3f5f"
           }
          },
          "ternary": {
           "aaxis": {
            "gridcolor": "white",
            "linecolor": "white",
            "ticks": ""
           },
           "baxis": {
            "gridcolor": "white",
            "linecolor": "white",
            "ticks": ""
           },
           "bgcolor": "#E5ECF6",
           "caxis": {
            "gridcolor": "white",
            "linecolor": "white",
            "ticks": ""
           }
          },
          "title": {
           "x": 0.05
          },
          "xaxis": {
           "automargin": true,
           "gridcolor": "white",
           "linecolor": "white",
           "ticks": "",
           "title": {
            "standoff": 15
           },
           "zerolinecolor": "white",
           "zerolinewidth": 2
          },
          "yaxis": {
           "automargin": true,
           "gridcolor": "white",
           "linecolor": "white",
           "ticks": "",
           "title": {
            "standoff": 15
           },
           "zerolinecolor": "white",
           "zerolinewidth": 2
          }
         }
        },
        "title": {
         "text": ""
        }
       }
      }
     },
     "metadata": {},
     "output_type": "display_data"
    },
    {
     "data": {
      "text/plain": [
       "{'data': [{'x': Coal    0.0\n",
       "   Name: x, dtype: float64,\n",
       "   'y': Coal    0.0\n",
       "   Name: y, dtype: float64,\n",
       "   'text': Index(['Bus Coal'], dtype='object', name='Bus'),\n",
       "   'type': 'scatter',\n",
       "   'mode': 'markers',\n",
       "   'hoverinfo': 'text',\n",
       "   'opacity': 1,\n",
       "   'marker': {'color': 'cadetblue', 'size': 10}}],\n",
       " 'layout': {'title': '',\n",
       "  'hovermode': 'closest',\n",
       "  'showlegend': False,\n",
       "  'shapes': []}}"
      ]
     },
     "execution_count": 105,
     "metadata": {},
     "output_type": "execute_result"
    }
   ],
   "source": [
    "network.iplot()"
   ]
  },
  {
   "cell_type": "code",
   "execution_count": 106,
   "metadata": {},
   "outputs": [
    {
     "data": {
      "text/html": [
       "<div>\n",
       "<style scoped>\n",
       "    .dataframe tbody tr th:only-of-type {\n",
       "        vertical-align: middle;\n",
       "    }\n",
       "\n",
       "    .dataframe tbody tr th {\n",
       "        vertical-align: top;\n",
       "    }\n",
       "\n",
       "    .dataframe thead th {\n",
       "        text-align: right;\n",
       "    }\n",
       "</style>\n",
       "<table border=\"1\" class=\"dataframe\">\n",
       "  <thead>\n",
       "    <tr style=\"text-align: right;\">\n",
       "      <th>attribute</th>\n",
       "      <th>v_nom</th>\n",
       "      <th>type</th>\n",
       "      <th>x</th>\n",
       "      <th>y</th>\n",
       "      <th>carrier</th>\n",
       "      <th>unit</th>\n",
       "      <th>v_mag_pu_set</th>\n",
       "      <th>v_mag_pu_min</th>\n",
       "      <th>v_mag_pu_max</th>\n",
       "      <th>control</th>\n",
       "      <th>sub_network</th>\n",
       "      <th>generator</th>\n",
       "    </tr>\n",
       "    <tr>\n",
       "      <th>Bus</th>\n",
       "      <th></th>\n",
       "      <th></th>\n",
       "      <th></th>\n",
       "      <th></th>\n",
       "      <th></th>\n",
       "      <th></th>\n",
       "      <th></th>\n",
       "      <th></th>\n",
       "      <th></th>\n",
       "      <th></th>\n",
       "      <th></th>\n",
       "      <th></th>\n",
       "    </tr>\n",
       "  </thead>\n",
       "  <tbody>\n",
       "    <tr>\n",
       "      <th>Coal</th>\n",
       "      <td>1.0</td>\n",
       "      <td></td>\n",
       "      <td>0.0</td>\n",
       "      <td>0.0</td>\n",
       "      <td>AC</td>\n",
       "      <td></td>\n",
       "      <td>1.0</td>\n",
       "      <td>0.0</td>\n",
       "      <td>inf</td>\n",
       "      <td>Slack</td>\n",
       "      <td>0</td>\n",
       "      <td>Coal Gen</td>\n",
       "    </tr>\n",
       "  </tbody>\n",
       "</table>\n",
       "</div>"
      ],
      "text/plain": [
       "attribute  v_nom type    x    y carrier unit  v_mag_pu_set  v_mag_pu_min   \n",
       "Bus                                                                        \n",
       "Coal         1.0       0.0  0.0      AC                1.0           0.0  \\\n",
       "\n",
       "attribute  v_mag_pu_max control sub_network generator  \n",
       "Bus                                                    \n",
       "Coal                inf   Slack           0  Coal Gen  "
      ]
     },
     "execution_count": 106,
     "metadata": {},
     "output_type": "execute_result"
    }
   ],
   "source": [
    "network.buses"
   ]
  },
  {
   "cell_type": "code",
   "execution_count": 107,
   "metadata": {},
   "outputs": [
    {
     "data": {
      "text/html": [
       "<div>\n",
       "<style scoped>\n",
       "    .dataframe tbody tr th:only-of-type {\n",
       "        vertical-align: middle;\n",
       "    }\n",
       "\n",
       "    .dataframe tbody tr th {\n",
       "        vertical-align: top;\n",
       "    }\n",
       "\n",
       "    .dataframe thead th {\n",
       "        text-align: right;\n",
       "    }\n",
       "</style>\n",
       "<table border=\"1\" class=\"dataframe\">\n",
       "  <thead>\n",
       "    <tr style=\"text-align: right;\">\n",
       "      <th>Load</th>\n",
       "      <th>load 1</th>\n",
       "    </tr>\n",
       "    <tr>\n",
       "      <th>snapshot</th>\n",
       "      <th></th>\n",
       "    </tr>\n",
       "  </thead>\n",
       "  <tbody>\n",
       "    <tr>\n",
       "      <th>2020-10-25 00:00:00</th>\n",
       "      <td>0.772726</td>\n",
       "    </tr>\n",
       "    <tr>\n",
       "      <th>2020-10-25 01:00:00</th>\n",
       "      <td>0.799781</td>\n",
       "    </tr>\n",
       "    <tr>\n",
       "      <th>2020-10-25 02:00:00</th>\n",
       "      <td>0.814007</td>\n",
       "    </tr>\n",
       "    <tr>\n",
       "      <th>2020-10-25 03:00:00</th>\n",
       "      <td>0.807890</td>\n",
       "    </tr>\n",
       "    <tr>\n",
       "      <th>2020-10-25 04:00:00</th>\n",
       "      <td>0.800132</td>\n",
       "    </tr>\n",
       "    <tr>\n",
       "      <th>...</th>\n",
       "      <td>...</td>\n",
       "    </tr>\n",
       "    <tr>\n",
       "      <th>2020-10-31 19:00:00</th>\n",
       "      <td>0.736014</td>\n",
       "    </tr>\n",
       "    <tr>\n",
       "      <th>2020-10-31 20:00:00</th>\n",
       "      <td>0.744146</td>\n",
       "    </tr>\n",
       "    <tr>\n",
       "      <th>2020-10-31 21:00:00</th>\n",
       "      <td>0.765764</td>\n",
       "    </tr>\n",
       "    <tr>\n",
       "      <th>2020-10-31 22:00:00</th>\n",
       "      <td>0.800867</td>\n",
       "    </tr>\n",
       "    <tr>\n",
       "      <th>2020-10-31 23:00:00</th>\n",
       "      <td>0.797086</td>\n",
       "    </tr>\n",
       "  </tbody>\n",
       "</table>\n",
       "<p>168 rows × 1 columns</p>\n",
       "</div>"
      ],
      "text/plain": [
       "Load                   load 1\n",
       "snapshot                     \n",
       "2020-10-25 00:00:00  0.772726\n",
       "2020-10-25 01:00:00  0.799781\n",
       "2020-10-25 02:00:00  0.814007\n",
       "2020-10-25 03:00:00  0.807890\n",
       "2020-10-25 04:00:00  0.800132\n",
       "...                       ...\n",
       "2020-10-31 19:00:00  0.736014\n",
       "2020-10-31 20:00:00  0.744146\n",
       "2020-10-31 21:00:00  0.765764\n",
       "2020-10-31 22:00:00  0.800867\n",
       "2020-10-31 23:00:00  0.797086\n",
       "\n",
       "[168 rows x 1 columns]"
      ]
     },
     "execution_count": 107,
     "metadata": {},
     "output_type": "execute_result"
    }
   ],
   "source": [
    "network.loads_t.p"
   ]
  },
  {
   "cell_type": "code",
   "execution_count": 108,
   "metadata": {},
   "outputs": [
    {
     "data": {
      "text/html": [
       "<div>\n",
       "<style scoped>\n",
       "    .dataframe tbody tr th:only-of-type {\n",
       "        vertical-align: middle;\n",
       "    }\n",
       "\n",
       "    .dataframe tbody tr th {\n",
       "        vertical-align: top;\n",
       "    }\n",
       "\n",
       "    .dataframe thead th {\n",
       "        text-align: right;\n",
       "    }\n",
       "</style>\n",
       "<table border=\"1\" class=\"dataframe\">\n",
       "  <thead>\n",
       "    <tr style=\"text-align: right;\">\n",
       "      <th>Generator</th>\n",
       "      <th>Coal Gen</th>\n",
       "      <th>PV Park</th>\n",
       "    </tr>\n",
       "    <tr>\n",
       "      <th>snapshot</th>\n",
       "      <th></th>\n",
       "      <th></th>\n",
       "    </tr>\n",
       "  </thead>\n",
       "  <tbody>\n",
       "    <tr>\n",
       "      <th>2020-10-25 00:00:00</th>\n",
       "      <td>0.710536</td>\n",
       "      <td>0.062189</td>\n",
       "    </tr>\n",
       "    <tr>\n",
       "      <th>2020-10-25 01:00:00</th>\n",
       "      <td>0.738502</td>\n",
       "      <td>0.061279</td>\n",
       "    </tr>\n",
       "    <tr>\n",
       "      <th>2020-10-25 02:00:00</th>\n",
       "      <td>0.752723</td>\n",
       "      <td>0.061284</td>\n",
       "    </tr>\n",
       "    <tr>\n",
       "      <th>2020-10-25 03:00:00</th>\n",
       "      <td>0.747193</td>\n",
       "      <td>0.060697</td>\n",
       "    </tr>\n",
       "    <tr>\n",
       "      <th>2020-10-25 04:00:00</th>\n",
       "      <td>0.740733</td>\n",
       "      <td>0.059399</td>\n",
       "    </tr>\n",
       "    <tr>\n",
       "      <th>...</th>\n",
       "      <td>...</td>\n",
       "      <td>...</td>\n",
       "    </tr>\n",
       "    <tr>\n",
       "      <th>2020-10-31 19:00:00</th>\n",
       "      <td>0.657957</td>\n",
       "      <td>0.078057</td>\n",
       "    </tr>\n",
       "    <tr>\n",
       "      <th>2020-10-31 20:00:00</th>\n",
       "      <td>0.659654</td>\n",
       "      <td>0.084492</td>\n",
       "    </tr>\n",
       "    <tr>\n",
       "      <th>2020-10-31 21:00:00</th>\n",
       "      <td>0.682236</td>\n",
       "      <td>0.083528</td>\n",
       "    </tr>\n",
       "    <tr>\n",
       "      <th>2020-10-31 22:00:00</th>\n",
       "      <td>0.723689</td>\n",
       "      <td>0.077178</td>\n",
       "    </tr>\n",
       "    <tr>\n",
       "      <th>2020-10-31 23:00:00</th>\n",
       "      <td>0.723644</td>\n",
       "      <td>0.073442</td>\n",
       "    </tr>\n",
       "  </tbody>\n",
       "</table>\n",
       "<p>168 rows × 2 columns</p>\n",
       "</div>"
      ],
      "text/plain": [
       "Generator            Coal Gen   PV Park\n",
       "snapshot                               \n",
       "2020-10-25 00:00:00  0.710536  0.062189\n",
       "2020-10-25 01:00:00  0.738502  0.061279\n",
       "2020-10-25 02:00:00  0.752723  0.061284\n",
       "2020-10-25 03:00:00  0.747193  0.060697\n",
       "2020-10-25 04:00:00  0.740733  0.059399\n",
       "...                       ...       ...\n",
       "2020-10-31 19:00:00  0.657957  0.078057\n",
       "2020-10-31 20:00:00  0.659654  0.084492\n",
       "2020-10-31 21:00:00  0.682236  0.083528\n",
       "2020-10-31 22:00:00  0.723689  0.077178\n",
       "2020-10-31 23:00:00  0.723644  0.073442\n",
       "\n",
       "[168 rows x 2 columns]"
      ]
     },
     "execution_count": 108,
     "metadata": {},
     "output_type": "execute_result"
    }
   ],
   "source": [
    "network.generators_t.p"
   ]
  },
  {
   "cell_type": "code",
   "execution_count": 109,
   "metadata": {},
   "outputs": [
    {
     "data": {
      "text/plain": [
       "attribute\n",
       "bus                      Coal\n",
       "control                 Slack\n",
       "type                         \n",
       "p_nom                     1.0\n",
       "p_nom_extendable        False\n",
       "p_nom_min                 0.0\n",
       "p_nom_max                 inf\n",
       "p_min_pu                  0.0\n",
       "p_max_pu                  1.0\n",
       "p_set                     1.0\n",
       "q_set                     0.0\n",
       "sign                      1.0\n",
       "carrier                  coal\n",
       "marginal_cost             0.0\n",
       "build_year                  0\n",
       "lifetime                  inf\n",
       "capital_cost            100.0\n",
       "efficiency                1.0\n",
       "committable             False\n",
       "start_up_cost             0.0\n",
       "shut_down_cost            0.0\n",
       "min_up_time                 0\n",
       "min_down_time               0\n",
       "up_time_before              1\n",
       "down_time_before            0\n",
       "ramp_limit_up             NaN\n",
       "ramp_limit_down           NaN\n",
       "ramp_limit_start_up       1.0\n",
       "ramp_limit_shut_down      1.0\n",
       "p_nom_opt                 0.0\n",
       "Name: Coal Gen, dtype: object"
      ]
     },
     "execution_count": 109,
     "metadata": {},
     "output_type": "execute_result"
    }
   ],
   "source": [
    "network.generators.loc[\"Coal Gen\"]"
   ]
  },
  {
   "cell_type": "code",
   "execution_count": 110,
   "metadata": {},
   "outputs": [
    {
     "data": {
      "text/plain": [
       "<Axes: xlabel='snapshot', ylabel='ΜW'>"
      ]
     },
     "execution_count": 110,
     "metadata": {},
     "output_type": "execute_result"
    },
    {
     "data": {
      "image/png": "[encoded data removed]",
      "text/plain": [
       "<Figure size 640x480 with 1 Axes>"
      ]
     },
     "metadata": {},
     "output_type": "display_data"
    },
    {
     "data": {
      "image/png": "[encoded data removed]",
      "text/plain": [
       "<Figure size 640x480 with 1 Axes>"
      ]
     },
     "metadata": {},
     "output_type": "display_data"
    }
   ],
   "source": [
    "network.generators_t.p.plot(ylabel='ΜW')\n",
    "network.loads_t.p.plot(ylabel='ΜW')"
   ]
  }
 ],
 "metadata": {
  "kernelspec": {
   "display_name": "test2",
   "language": "python",
   "name": "python3"
  },
  "language_info": {
   "codemirror_mode": {
    "name": "ipython",
    "version": 3
   },
   "file_extension": ".py",
   "mimetype": "text/x-python",
   "name": "python",
   "nbconvert_exporter": "python",
   "pygments_lexer": "ipython3",
   "version": "3.11.3"
  },
  "orig_nbformat": 4
 },
 "nbformat": 4,
 "nbformat_minor": 2
}
