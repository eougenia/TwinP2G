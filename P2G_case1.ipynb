{
 "cells": [
  {
   "cell_type": "code",
   "execution_count": 16,
   "metadata": {},
   "outputs": [],
   "source": [
    "import numpy as np\n",
    "import pypsa\n",
    "import pandas as pd\n",
    "import matplotlib.pyplot as plt\n",
    "plt.rcParams['figure.figsize'] = [10, 5]\n",
    "from pyomo.environ import Constraint\n",
    "import logging\n",
    "import datetime"
   ]
  },
  {
   "cell_type": "code",
   "execution_count": 17,
   "metadata": {},
   "outputs": [],
   "source": [
    "%matplotlib inline\n",
    "logging.basicConfig(level=\"INFO\")"
   ]
  },
  {
   "attachments": {},
   "cell_type": "markdown",
   "metadata": {},
   "source": [
    "## Δεδομένα Παραγωγής και Κατανάλωσης"
   ]
  },
  {
   "cell_type": "code",
   "execution_count": 18,
   "metadata": {},
   "outputs": [
    {
     "data": {
      "text/plain": [
       "count    50376.000000\n",
       "mean         0.991647\n",
       "std          1.361433\n",
       "min          0.000000\n",
       "25%          0.000000\n",
       "50%          0.037825\n",
       "75%          1.964539\n",
       "max          5.000000\n",
       "Name: GR_solar_generation_actual, dtype: float64"
      ]
     },
     "execution_count": 18,
     "metadata": {},
     "output_type": "execute_result"
    }
   ],
   "source": [
    "data=pd.read_csv(\"time_series_60min_singleindex.csv\", parse_dates=True)\n",
    "data.set_index(['utc_timestamp'], inplace=True)\n",
    "gr_cols = [col for col in data.columns if col.startswith('GR_')]\n",
    "data=data[gr_cols]\n",
    "data=data['2015-01-01':'2020-09-30']\n",
    "data=data.fillna(method='pad')\n",
    "data=data.fillna(method='backfill')\n",
    "data_load=data['GR_load_actual_entsoe_transparency']/2000 #Υποθετω οτι ειναι για 10.000.000/2.000 = 5.000 άτομα\n",
    "data_pvprod=data['GR_solar_generation_actual']/(2115/5)  \n",
    "data_pvprod.describe()"
   ]
  },
  {
   "cell_type": "code",
   "execution_count": 19,
   "metadata": {},
   "outputs": [
    {
     "data": {
      "text/plain": [
       "count    50376.000000\n",
       "mean         2.910121\n",
       "std          0.564945\n",
       "min          1.504880\n",
       "25%          2.480803\n",
       "50%          2.884853\n",
       "75%          3.297722\n",
       "max          4.874310\n",
       "Name: GR_load_actual_entsoe_transparency, dtype: float64"
      ]
     },
     "execution_count": 19,
     "metadata": {},
     "output_type": "execute_result"
    }
   ],
   "source": [
    "data_load.describe()"
   ]
  },
  {
   "cell_type": "code",
   "execution_count": 20,
   "metadata": {},
   "outputs": [
    {
     "data": {
      "text/plain": [
       "count    50376.000000\n",
       "mean         0.991647\n",
       "std          1.361433\n",
       "min          0.000000\n",
       "25%          0.000000\n",
       "50%          0.037825\n",
       "75%          1.964539\n",
       "max          5.000000\n",
       "Name: GR_solar_generation_actual, dtype: float64"
      ]
     },
     "execution_count": 20,
     "metadata": {},
     "output_type": "execute_result"
    }
   ],
   "source": [
    "data_pvprod.describe()"
   ]
  },
  {
   "attachments": {},
   "cell_type": "markdown",
   "metadata": {},
   "source": [
    "## Προσομοίωση Δικτύου"
   ]
  },
  {
   "cell_type": "code",
   "execution_count": 21,
   "metadata": {},
   "outputs": [],
   "source": [
    "network = pypsa.Network()\n",
    "network.set_snapshots(data.index)"
   ]
  },
  {
   "cell_type": "code",
   "execution_count": 22,
   "metadata": {},
   "outputs": [],
   "source": [
    "#Add buses and carriers to the network\n",
    "network.add(\"Bus\", \"Diesel\", carrier='AC')\n",
    "network.add(\"Carrier\", \"diesel\",co2_emissions=0) \n",
    "\n",
    "network.add(\"Bus\", \"Solar\", carrier=\"AC\")\n",
    "network.add(\"Carrier\", \"solar\")\n",
    "\n",
    "#Add line\n",
    "network.add(\"Line\",\"Line\",bus0=\"Diesel\",bus1=\"Solar\", r=0.01, x=0.1, s_nom_extendable=True)\n",
    "\n",
    "#Add generators\n",
    "network.add(\n",
    "    \"Generator\",\n",
    "    \"Diesel Gen\",\n",
    "    bus=\"Diesel\",\n",
    "    carrier=\"diesel\",\n",
    "    p_nom=5, #MW\n",
    "    p_nom_extendable=False,\n",
    "    p_min_pu=0.3, \n",
    "    control=\"Slack\",\n",
    "    capital_cost=0, #Capital cost of extending p_nom by 1 MW (€/MW)\n",
    "    marginal_cost=305,#diesel:0.2€/kWh, CO2 emissions: 80-85€/tCO2*1.27 tonnes/MWh = 105€/MWh (€/MWh)\n",
    "    )\n",
    "\n",
    "network.add(\n",
    "    \"Generator\",\n",
    "    \"PV Park\",\n",
    "    bus=\"Solar\", \n",
    "    carrier=\"solar\",\n",
    "    control=\"PV\", \n",
    "    p_nom=1, #MW \n",
    "    p_nom_extendable=False,\n",
    "    p_max_pu=np.array(data_pvprod),\n",
    "    capital_cost=0, #Capital cost of extending p_nom by 1 MW (€/MW)\n",
    "    marginal_cost=24 # 20-60€/MWh\n",
    "    )\n",
    "\n",
    "#Add loads\n",
    "network.add(\"Load\", \"load 1\", bus=\"Solar\", p_set=np.array(data_load)) \n"
   ]
  },
  {
   "attachments": {},
   "cell_type": "markdown",
   "metadata": {},
   "source": [
    "## Προσωμοίωση Power to Gas  "
   ]
  },
  {
   "cell_type": "code",
   "execution_count": 23,
   "metadata": {},
   "outputs": [],
   "source": [
    "network.add(\"Bus\", \"Hydrogen\", carrier=\"hydrogen\")\n",
    "\n",
    "network.add(\"Carrier\", \"hydrogen\")\n",
    "network.add(\"Carrier\", \"electrolysis\")\n",
    "network.add(\"Carrier\", \"fuel cell\")\n",
    "\n",
    "#Add electrolysis and fuel cell links\n",
    "network.add(\n",
    "    \"Link\",\n",
    "    \"Electrolysis\",\n",
    "    bus0=\"Solar\",\n",
    "    bus1=\"Hydrogen\",\n",
    "    carrier=\"electrolysis\",\n",
    "    efficiency=0.7, \n",
    "    p_nom=2.5, #Limit of active power which can pass through link. \n",
    "    p_nom_extendable=True, \n",
    "    #p_min_pu=0.2, \n",
    "    #p_max_pu=1, \n",
    "    capital_cost=1000000/5, #Capital cost of extending p_nom by 1 MW (€/MW)\n",
    "    marginal_cost=110,  #0.06-0.2€ per kWh (€/MWh)\n",
    "    )    \n",
    "\n",
    "network.add(\n",
    "    \"Link\",\n",
    "    \"Fuel Cell\",\n",
    "    bus0=\"Hydrogen\",\n",
    "    bus1=\"Solar\",\n",
    "    carrier=\"fuel cell\",\n",
    "    efficiency=0.6, \n",
    "    p_nom=1.2, #Limit of active power which can pass through link. \n",
    "    #p_max_pu=1, \n",
    "    p_nom_extendable=True,\n",
    "    capital_cost=1000000/5, #Capital cost of extending p_nom by 1 MW (€/MW)\n",
    "    marginal_cost=110,# 0.1-0.3€ per kWh (€/MWh)\n",
    "    )\n",
    "\n",
    "#Add H2 store \n",
    "network.add(\n",
    "    \"Store\", \n",
    "    \"H2\", \n",
    "    bus=\"Hydrogen\", \n",
    "    carrier=\"hydrogen\", \n",
    "    e_nom=15, #Nominal energy capacity (MWh)\n",
    "    e_cyclic=True, \n",
    "    e_nom_extendable=True,\n",
    "    capital_cost=40000/5, #Capital cost of extending p_nom by 1 MW (€/MWh) \n",
    "    marginal_cost=10,\n",
    "    )\n",
    "\n",
    "#network.add(\"Load\", \"load 2\", bus=\"Hydrogen\", p_set=0.3)\n"
   ]
  },
  {
   "attachments": {},
   "cell_type": "markdown",
   "metadata": {},
   "source": [
    "## Ροη φορτιου και βελτιστοποιηση\n",
    "Χρησιμοποείται η εντολή network.optimize() για να τρέξει το σύστημα και να βελτιστοποιηθεί το αποτέλεσμα. Ο χρόνος εκτέλεσης ειναι 21min 7sec."
   ]
  },
  {
   "cell_type": "code",
   "execution_count": 24,
   "metadata": {},
   "outputs": [
    {
     "name": "stderr",
     "output_type": "stream",
     "text": [
      "<__array_function__ internals>:200: RuntimeWarning:\n",
      "\n",
      "invalid value encountered in cast\n",
      "\n",
      "<__array_function__ internals>:200: RuntimeWarning:\n",
      "\n",
      "invalid value encountered in cast\n",
      "\n",
      "<__array_function__ internals>:200: RuntimeWarning:\n",
      "\n",
      "invalid value encountered in cast\n",
      "\n",
      "INFO:linopy.model: Solve linear problem using Glpk solver\n",
      "INFO:linopy.io:Writing objective.\n",
      "Writing constraints.: 100%|██████████| 16/16 [00:04<00:00,  3.69it/s]\n",
      "Writing variables.: 100%|██████████| 9/9 [00:00<00:00, 13.04it/s]\n",
      "INFO:linopy.io: Writing time: 5.88s\n"
     ]
    },
    {
     "name": "stdout",
     "output_type": "stream",
     "text": [
      "GLPSOL: GLPK LP/MIP Solver, v4.65\n",
      "Parameter(s) specified in the command line:\n",
      " --lp C:\\Users\\2F06~1\\AppData\\Local\\Temp\\linopy-problem-6d0hrk32.lp --output\n",
      " C:\\Users\\2F06~1\\AppData\\Local\\Temp\\linopy-solve-b56hzp98.sol\n",
      "Reading problem data from 'C:\\Users\\2F06~1\\AppData\\Local\\Temp\\linopy-problem-6d0hrk32.lp'...\n",
      "806020 rows, 352637 columns, 1460908 non-zeros\n",
      "5289530 lines were read\n",
      "GLPK Simplex Optimizer, v4.65\n",
      "806020 rows, 352637 columns, 1460908 non-zeros\n",
      "Preprocessing...\n",
      "352632 rows, 251884 columns, 856392 non-zeros\n",
      "Scaling...\n",
      " A: min|aij| =  6.000e-01  max|aij| =  1.000e+00  ratio =  1.667e+00\n",
      "Problem data seem to be well scaled\n",
      "Constructing initial basis...\n",
      "Size of triangular part is 352631\n",
      "      0: obj =   3.159237239e+07 inf =   1.155e+05 (63437)\n",
      "    304: obj =   3.159237239e+07 inf =   3.252e+04 (35519) 3\n",
      "    554: obj =   3.159237239e+07 inf =   3.095e+04 (35255) 2\n",
      "    801: obj =   3.159237239e+07 inf =   3.010e+04 (34995) 2\n",
      "   1032: obj =   3.159237239e+07 inf =   2.947e+04 (34743) 3\n",
      "   1272: obj =   3.159237239e+07 inf =   2.890e+04 (34479) 2\n",
      "   1530: obj =   3.159237239e+07 inf =   2.844e+04 (34186) 3\n",
      "   1741: obj =   3.159237239e+07 inf =   2.802e+04 (33945) 2\n",
      "   2019: obj =   3.159237239e+07 inf =   2.755e+04 (33638) 2\n",
      "   2284: obj =   3.159237239e+07 inf =   2.717e+04 (33312) 3\n",
      "   2570: obj =   3.159237239e+07 inf =   2.674e+04 (32974) 3\n",
      "   2874: obj =   3.159237239e+07 inf =   2.634e+04 (32599) 3\n",
      "   3148: obj =   3.159237239e+07 inf =   2.598e+04 (32263) 3\n",
      "   3442: obj =   3.159237239e+07 inf =   2.562e+04 (31911) 3\n",
      "   3738: obj =   3.159237239e+07 inf =   2.527e+04 (31560) 2\n",
      "   4027: obj =   3.159237239e+07 inf =   2.491e+04 (31207) 3\n",
      "   4322: obj =   3.159237239e+07 inf =   2.457e+04 (30862) 3\n",
      "   4608: obj =   3.159237239e+07 inf =   2.423e+04 (30525) 3\n",
      "   4882: obj =   3.159237239e+07 inf =   2.395e+04 (30206) 3\n",
      "   5146: obj =   3.159237239e+07 inf =   2.364e+04 (29876) 2\n",
      "   5421: obj =   3.159237239e+07 inf =   2.333e+04 (29556) 3\n",
      "   5681: obj =   3.159237239e+07 inf =   2.306e+04 (29247) 3\n",
      "   5940: obj =   3.159237239e+07 inf =   2.273e+04 (28934) 2\n",
      "   6201: obj =   3.159237239e+07 inf =   2.245e+04 (28630) 3\n",
      "   6508: obj =   3.159237239e+07 inf =   2.216e+04 (28274) 3\n",
      "   6795: obj =   3.159237239e+07 inf =   2.185e+04 (27936) 3\n",
      "   7088: obj =   3.159237239e+07 inf =   2.155e+04 (27603) 3\n",
      "   7381: obj =   3.159237239e+07 inf =   2.125e+04 (27270) 3\n",
      "   7637: obj =   3.159237239e+07 inf =   2.103e+04 (26983) 2\n",
      "   7940: obj =   3.159237239e+07 inf =   2.076e+04 (26624) 3\n",
      "   8252: obj =   3.159237239e+07 inf =   2.047e+04 (26250) 3\n",
      "   8543: obj =   3.159237239e+07 inf =   2.016e+04 (25908) 3\n",
      "   8866: obj =   3.159237239e+07 inf =   1.986e+04 (25531) 3\n",
      "   9192: obj =   3.159237239e+07 inf =   1.952e+04 (25129) 3\n",
      "   9429: obj =   3.159237239e+07 inf =   1.929e+04 (24845) 3\n",
      "   9676: obj =   3.159237239e+07 inf =   1.907e+04 (24537) 2\n",
      "   9872: obj =   3.159237239e+07 inf =   1.889e+04 (24306) 2\n",
      "  10139: obj =   3.159237239e+07 inf =   1.865e+04 (23996) 3\n",
      "  10420: obj =   3.159237239e+07 inf =   1.841e+04 (23649) 3\n",
      "  10703: obj =   3.159237239e+07 inf =   1.814e+04 (23302) 2\n",
      "  10983: obj =   3.159237239e+07 inf =   1.789e+04 (22964) 3\n",
      "  11247: obj =   3.159237239e+07 inf =   1.765e+04 (22663) 3\n",
      "  11517: obj =   3.159237239e+07 inf =   1.741e+04 (22338) 2\n",
      "  11809: obj =   3.159237239e+07 inf =   1.713e+04 (21998) 3\n",
      "  12038: obj =   3.159237239e+07 inf =   1.692e+04 (21727) 3\n",
      "  12283: obj =   3.159237239e+07 inf =   1.669e+04 (21435) 2\n",
      "  12528: obj =   3.159237239e+07 inf =   1.648e+04 (21135) 2\n",
      "  12737: obj =   3.159237239e+07 inf =   1.629e+04 (20881) 2\n",
      "  12965: obj =   3.159237239e+07 inf =   1.610e+04 (20613) 3\n",
      "  13245: obj =   3.159237239e+07 inf =   1.586e+04 (20286) 3\n",
      "  13540: obj =   3.159237239e+07 inf =   1.564e+04 (19941) 2\n",
      "  13838: obj =   3.159237239e+07 inf =   1.539e+04 (19591) 3\n",
      "  14139: obj =   3.159237239e+07 inf =   1.517e+04 (19243) 3\n",
      "  14440: obj =   3.159237239e+07 inf =   1.497e+04 (18895) 3\n",
      "  14733: obj =   3.159237239e+07 inf =   1.478e+04 (18554) 3\n",
      "  15032: obj =   3.159237239e+07 inf =   1.459e+04 (18214) 3\n",
      "  15327: obj =   3.159237239e+07 inf =   1.442e+04 (17885) 3\n",
      "  15623: obj =   3.159237239e+07 inf =   1.423e+04 (17546) 3\n",
      "  15914: obj =   3.159237239e+07 inf =   1.406e+04 (17203) 3\n",
      "  16182: obj =   3.159237239e+07 inf =   1.389e+04 (16896) 3\n",
      "  16471: obj =   3.159237239e+07 inf =   1.373e+04 (16578) 2\n",
      "  16741: obj =   3.159237239e+07 inf =   1.360e+04 (16284) 3\n",
      "  16993: obj =   3.159237239e+07 inf =   1.348e+04 (16014) 3\n",
      "  17264: obj =   3.159237239e+07 inf =   1.336e+04 (15717) 2\n",
      "  17521: obj =   3.159237239e+07 inf =   1.324e+04 (15432) 3\n",
      "  17816: obj =   3.159237239e+07 inf =   1.309e+04 (15105) 3\n",
      "  18094: obj =   3.159237239e+07 inf =   1.299e+04 (14812) 2\n",
      "  18333: obj =   3.159237239e+07 inf =   1.291e+04 (14554) 3\n",
      "  18580: obj =   3.159237239e+07 inf =   1.283e+04 (14297) 2\n",
      "  18805: obj =   3.159237239e+07 inf =   1.276e+04 (14055) 3\n",
      "  19011: obj =   3.159237239e+07 inf =   1.270e+04 (13837) 2\n",
      "  19295: obj =   3.159237239e+07 inf =   1.263e+04 (13537) 2\n",
      "  19575: obj =   3.159237239e+07 inf =   1.257e+04 (13244) 3\n",
      "  19876: obj =   3.163183759e+07 inf =   1.241e+04 (12937) 2\n",
      "  20253: obj =   3.174075892e+07 inf =   1.202e+04 (12561)\n",
      "  20676: obj =   3.183297117e+07 inf =   1.169e+04 (12138)\n",
      "  21038: obj =   3.192404633e+07 inf =   1.137e+04 (11777)\n",
      "  21426: obj =   3.202917855e+07 inf =   1.099e+04 (11389)\n",
      "  21855: obj =   3.213407034e+07 inf =   1.062e+04 (10960)\n",
      "  22277: obj =   3.225554078e+07 inf =   1.019e+04 (10538)\n",
      "  22666: obj =   3.233444933e+07 inf =   9.905e+03 (10149)\n",
      "  23073: obj =   3.244343499e+07 inf =   9.517e+03 (9742)\n",
      "  23436: obj =   3.253607254e+07 inf =   9.188e+03 (9379)\n",
      "  23875: obj =   3.264003468e+07 inf =   8.818e+03 (8940)\n",
      "  24288: obj =   3.279488208e+07 inf =   8.267e+03 (8527)\n",
      "  24644: obj =   3.288426942e+07 inf =   7.949e+03 (8171)\n",
      "  25010: obj =   3.295132243e+07 inf =   7.710e+03 (7805)\n",
      "  25396: obj =   3.306104970e+07 inf =   7.319e+03 (7419)\n",
      "  25811: obj =   3.316291334e+07 inf =   6.957e+03 (7004)\n",
      "  26226: obj =   3.328049487e+07 inf =   6.539e+03 (6589)\n",
      "  26642: obj =   3.340975315e+07 inf =   6.079e+03 (6173)\n",
      "  27048: obj =   3.349844443e+07 inf =   5.763e+03 (5767)\n",
      "  27468: obj =   3.359418131e+07 inf =   5.422e+03 (5347)\n",
      "  27887: obj =   3.371711176e+07 inf =   4.985e+03 (4928)\n",
      "  28308: obj =   3.381921328e+07 inf =   4.621e+03 (4507)\n",
      "  28729: obj =   3.398240699e+07 inf =   4.041e+03 (4086)\n",
      "  29150: obj =   3.415891395e+07 inf =   3.412e+03 (3665)\n",
      "  29561: obj =   3.430111111e+07 inf =   2.906e+03 (3254)\n",
      "  29979: obj =   3.439176481e+07 inf =   2.584e+03 (2836)\n",
      "  30378: obj =   3.449683014e+07 inf =   2.210e+03 (2437)\n",
      "  30719: obj =   3.460243578e+07 inf =   1.834e+03 (2096)\n",
      "  31100: obj =   3.468170416e+07 inf =   1.552e+03 (1715)\n",
      "  31502: obj =   3.480597813e+07 inf =   1.110e+03 (1313)\n",
      "  31899: obj =   3.490564483e+07 inf =   7.551e+02 (916)\n",
      "  32265: obj =   3.496525625e+07 inf =   5.429e+02 (550)\n",
      "  32652: obj =   3.507502361e+07 inf =   1.523e+02 (163)\n",
      "  32815: obj =   3.511781502e+07 inf =   0.000e+00 (0)\n",
      "Perturbing LP to avoid stalling [33014]...\n",
      "* 33151: obj =   3.511781502e+07 inf =   0.000e+00 (50294) 1\n",
      "* 33500: obj =   3.511781502e+07 inf =   0.000e+00 (50294)\n",
      "* 33850: obj =   3.511781502e+07 inf =   0.000e+00 (50294)\n",
      "* 34194: obj =   3.511781502e+07 inf =   0.000e+00 (50294)\n",
      "* 34534: obj =   3.511781502e+07 inf =   0.000e+00 (50294)\n",
      "* 34857: obj =   3.511781502e+07 inf =   0.000e+00 (50294)\n",
      "* 35172: obj =   3.511781502e+07 inf =   0.000e+00 (50294)\n",
      "* 35463: obj =   3.511781502e+07 inf =   0.000e+00 (50294)\n",
      "* 35780: obj =   3.511781502e+07 inf =   0.000e+00 (50294)\n",
      "* 36077: obj =   3.511781502e+07 inf =   0.000e+00 (50294)\n",
      "* 36390: obj =   3.511781502e+07 inf =   0.000e+00 (50294)\n",
      "* 36720: obj =   3.511781502e+07 inf =   0.000e+00 (50294)\n",
      "* 37054: obj =   3.511781502e+07 inf =   0.000e+00 (50294)\n",
      "* 37377: obj =   3.511781502e+07 inf =   0.000e+00 (50294)\n",
      "* 37701: obj =   3.511781502e+07 inf =   0.000e+00 (50294)\n",
      "* 38016: obj =   3.511781502e+07 inf =   0.000e+00 (50294)\n",
      "* 38338: obj =   3.511781502e+07 inf =   0.000e+00 (50294)\n",
      "* 38659: obj =   3.511781502e+07 inf =   0.000e+00 (50294)\n",
      "* 38969: obj =   3.511781502e+07 inf =   0.000e+00 (50294)\n",
      "* 39289: obj =   3.511781502e+07 inf =   0.000e+00 (50294)\n",
      "* 39619: obj =   3.511781502e+07 inf =   0.000e+00 (50294)\n",
      "* 39931: obj =   3.511781502e+07 inf =   0.000e+00 (50294)\n",
      "* 40235: obj =   3.511781502e+07 inf =   0.000e+00 (50294)\n",
      "* 40546: obj =   3.511781502e+07 inf =   0.000e+00 (50294)\n",
      "* 40855: obj =   3.511781502e+07 inf =   0.000e+00 (50294)\n",
      "* 41167: obj =   3.511781502e+07 inf =   0.000e+00 (50294)\n",
      "* 41455: obj =   3.511781502e+07 inf =   0.000e+00 (50095) 1\n",
      "* 41733: obj =   3.511781502e+07 inf =   0.000e+00 (49817) 3\n",
      "* 42019: obj =   3.511781502e+07 inf =   0.000e+00 (49531) 3\n",
      "* 42307: obj =   3.511781502e+07 inf =   0.000e+00 (49243) 3\n",
      "* 42609: obj =   3.511781502e+07 inf =   0.000e+00 (49136) 1\n",
      "* 42925: obj =   3.511781502e+07 inf =   0.000e+00 (49136)\n",
      "* 43258: obj =   3.511781502e+07 inf =   0.000e+00 (49136)\n",
      "* 43586: obj =   3.511781502e+07 inf =   0.000e+00 (49136)\n",
      "* 43905: obj =   3.511781502e+07 inf =   0.000e+00 (49136)\n",
      "* 44230: obj =   3.511781502e+07 inf =   0.000e+00 (49136)\n",
      "* 44538: obj =   3.511781502e+07 inf =   0.000e+00 (49136)\n",
      "* 44845: obj =   3.511781502e+07 inf =   0.000e+00 (49136)\n",
      "* 45175: obj =   3.511781502e+07 inf =   0.000e+00 (49133)\n",
      "* 45503: obj =   3.511781502e+07 inf =   0.000e+00 (49133)\n",
      "* 45831: obj =   3.511781502e+07 inf =   0.000e+00 (49133)\n",
      "* 46168: obj =   3.511781502e+07 inf =   0.000e+00 (49133)\n",
      "* 46495: obj =   3.511781502e+07 inf =   0.000e+00 (49133)\n",
      "* 46766: obj =   3.511781502e+07 inf =   0.000e+00 (49133)\n",
      "* 47080: obj =   3.511781502e+07 inf =   0.000e+00 (49133)\n",
      "* 47394: obj =   3.511781502e+07 inf =   0.000e+00 (49133)\n",
      "* 47694: obj =   3.511781502e+07 inf =   0.000e+00 (49133)\n",
      "* 48002: obj =   3.511781502e+07 inf =   0.000e+00 (49133)\n",
      "* 48313: obj =   3.511781502e+07 inf =   0.000e+00 (49133)\n",
      "* 48628: obj =   3.511781502e+07 inf =   0.000e+00 (49133)\n",
      "* 48946: obj =   3.511781502e+07 inf =   0.000e+00 (49133)\n",
      "* 49265: obj =   3.511781502e+07 inf =   0.000e+00 (49133)\n",
      "* 49563: obj =   3.511781502e+07 inf =   0.000e+00 (49133)\n",
      "* 49879: obj =   3.511781502e+07 inf =   0.000e+00 (49133)\n",
      "* 50220: obj =   3.511781502e+07 inf =   0.000e+00 (49133)\n",
      "* 50563: obj =   3.511781502e+07 inf =   0.000e+00 (49133)\n",
      "* 50864: obj =   3.511781502e+07 inf =   0.000e+00 (49133)\n",
      "* 51184: obj =   3.511781502e+07 inf =   0.000e+00 (49133)\n",
      "* 51457: obj =   3.511781502e+07 inf =   0.000e+00 (49133)\n",
      "* 51764: obj =   3.511781502e+07 inf =   0.000e+00 (49133)\n",
      "* 52088: obj =   3.511781502e+07 inf =   0.000e+00 (49133)\n",
      "* 52417: obj =   3.511781502e+07 inf =   0.000e+00 (49133)\n",
      "* 52754: obj =   3.511781502e+07 inf =   0.000e+00 (49133)\n",
      "* 53061: obj =   3.511781502e+07 inf =   0.000e+00 (49133)\n",
      "* 53375: obj =   3.511781502e+07 inf =   0.000e+00 (49133)\n",
      "* 53701: obj =   3.511781502e+07 inf =   0.000e+00 (49133)\n",
      "* 54021: obj =   3.511781502e+07 inf =   0.000e+00 (49133)\n",
      "* 54335: obj =   3.511781502e+07 inf =   0.000e+00 (49133)\n",
      "* 54660: obj =   3.511781502e+07 inf =   0.000e+00 (49133)\n",
      "* 54970: obj =   3.511781502e+07 inf =   0.000e+00 (49133)\n",
      "* 55278: obj =   3.511781502e+07 inf =   0.000e+00 (49133)\n",
      "* 55602: obj =   3.511781502e+07 inf =   0.000e+00 (49133)\n",
      "* 55935: obj =   3.511781502e+07 inf =   0.000e+00 (49133)\n",
      "* 56273: obj =   3.511781502e+07 inf =   0.000e+00 (49133)\n",
      "* 56604: obj =   3.511781502e+07 inf =   0.000e+00 (49133)\n",
      "* 56918: obj =   3.511781502e+07 inf =   0.000e+00 (49133)\n",
      "* 57238: obj =   3.511781502e+07 inf =   0.000e+00 (49133)\n",
      "* 57542: obj =   3.511781502e+07 inf =   0.000e+00 (49133)\n",
      "* 57867: obj =   3.511781502e+07 inf =   0.000e+00 (49133)\n",
      "* 58176: obj =   3.511781502e+07 inf =   0.000e+00 (49133)\n",
      "* 58486: obj =   3.511781502e+07 inf =   0.000e+00 (49133)\n",
      "* 58808: obj =   3.511781502e+07 inf =   0.000e+00 (49133)\n",
      "* 59102: obj =   3.511781502e+07 inf =   0.000e+00 (49133)\n",
      "* 59395: obj =   3.511781502e+07 inf =   0.000e+00 (49040) 1\n",
      "* 59652: obj =   3.511781502e+07 inf =   0.000e+00 (48783) 2\n",
      "* 59907: obj =   3.511781502e+07 inf =   0.000e+00 (48528) 3\n",
      "* 60178: obj =   3.511781502e+07 inf =   0.000e+00 (15629) 3\n",
      "* 60427: obj =   3.511781502e+07 inf =   0.000e+00 (15380) 2\n",
      "* 60757: obj =   3.511781502e+07 inf =   0.000e+00 (15050) 1\n",
      "* 61149: obj =   3.511781502e+07 inf =   0.000e+00 (14658)\n",
      "* 61527: obj =   3.511781502e+07 inf =   0.000e+00 (14280)\n",
      "* 61909: obj =   3.511781502e+07 inf =   0.000e+00 (13926)\n",
      "* 62251: obj =   3.511781502e+07 inf =   0.000e+00 (13595) 2\n",
      "* 62605: obj =   3.511781502e+07 inf =   0.000e+00 (13231) 1\n",
      "* 62930: obj =   3.511781502e+07 inf =   0.000e+00 (13014) 2\n",
      "* 63261: obj =   3.511781502e+07 inf =   0.000e+00 (12821) 2\n",
      "* 63581: obj =   3.511781502e+07 inf =   0.000e+00 (12559) 3\n",
      "* 63895: obj =   3.511781502e+07 inf =   0.000e+00 (12351) 3\n",
      "* 64212: obj =   3.511781502e+07 inf =   0.000e+00 (12151) 3\n",
      "* 64490: obj =   3.511781502e+07 inf =   0.000e+00 (11884) 3\n",
      "* 64774: obj =   3.511781502e+07 inf =   0.000e+00 (11610) 3\n",
      "* 65055: obj =   3.511781502e+07 inf =   0.000e+00 (11333) 3\n",
      "* 65326: obj =   3.511781502e+07 inf =   0.000e+00 (11051) 2\n",
      "* 65570: obj =   3.511781502e+07 inf =   0.000e+00 (10810) 3\n",
      "* 65837: obj =   3.511781502e+07 inf =   0.000e+00 (10545) 2\n",
      "* 66089: obj =   3.511781502e+07 inf =   0.000e+00 (10281) 3\n",
      "* 66346: obj =   3.511781502e+07 inf =   0.000e+00 (10024) 2\n",
      "* 66593: obj =   3.511781502e+07 inf =   0.000e+00 (9777) 3\n",
      "* 66857: obj =   3.511781502e+07 inf =   0.000e+00 (9513) 2\n",
      "* 67116: obj =   3.511781502e+07 inf =   0.000e+00 (9257) 3\n",
      "* 67371: obj =   3.511781502e+07 inf =   0.000e+00 (9002) 2\n",
      "* 67610: obj =   3.511781502e+07 inf =   0.000e+00 (8763) 3\n",
      "* 67850: obj =   3.511781502e+07 inf =   0.000e+00 (8523) 2\n",
      "* 68101: obj =   3.511781502e+07 inf =   0.000e+00 (8276) 3\n",
      "* 68365: obj =   3.511781502e+07 inf =   0.000e+00 (8012) 2\n",
      "* 68622: obj =   3.511781502e+07 inf =   0.000e+00 (7755) 3\n",
      "* 68869: obj =   3.511781502e+07 inf =   0.000e+00 (7509) 2\n",
      "* 69107: obj =   3.511781502e+07 inf =   0.000e+00 (7272) 3\n",
      "* 69330: obj =   3.511781502e+07 inf =   0.000e+00 (7049) 2\n",
      "* 69538: obj =   3.511781502e+07 inf =   0.000e+00 (6841) 2\n",
      "* 69775: obj =   3.511781502e+07 inf =   0.000e+00 (6604) 2\n",
      "* 69998: obj =   3.511781502e+07 inf =   0.000e+00 (6381) 3\n",
      "* 70223: obj =   3.511781502e+07 inf =   0.000e+00 (6157) 2\n",
      "* 70458: obj =   3.511781502e+07 inf =   0.000e+00 (5922) 2\n",
      "* 70710: obj =   3.511781502e+07 inf =   0.000e+00 (5670) 3\n",
      "* 70968: obj =   3.511781502e+07 inf =   0.000e+00 (5413) 2\n",
      "* 71224: obj =   3.511781502e+07 inf =   0.000e+00 (5159) 3\n",
      "* 71469: obj =   3.511781502e+07 inf =   0.000e+00 (4914) 2\n",
      "* 71719: obj =   3.511781502e+07 inf =   0.000e+00 (4664) 3\n",
      "* 71973: obj =   3.511781502e+07 inf =   0.000e+00 (4410) 2\n",
      "* 72221: obj =   3.511781502e+07 inf =   0.000e+00 (4164) 3\n",
      "* 72467: obj =   3.511781502e+07 inf =   0.000e+00 (3918) 2\n",
      "* 72718: obj =   3.511781502e+07 inf =   0.000e+00 (3668) 2\n",
      "* 72942: obj =   3.511781502e+07 inf =   0.000e+00 (3444) 3\n",
      "* 73149: obj =   3.511781502e+07 inf =   0.000e+00 (3239) 2\n",
      "* 73368: obj =   3.511781502e+07 inf =   0.000e+00 (3020) 2\n",
      "* 73576: obj =   3.511781502e+07 inf =   0.000e+00 (2812) 2\n",
      "* 73760: obj =   3.511781502e+07 inf =   0.000e+00 (2628) 2\n",
      "* 73960: obj =   3.511781502e+07 inf =   0.000e+00 (2428) 2\n",
      "* 74145: obj =   3.511781502e+07 inf =   0.000e+00 (2244) 2\n",
      "* 74346: obj =   3.511781502e+07 inf =   0.000e+00 (2043) 2\n",
      "* 74540: obj =   3.511781502e+07 inf =   0.000e+00 (1850) 1\n",
      "* 74691: obj =   3.511781502e+07 inf =   0.000e+00 (1699) 2\n",
      "* 74908: obj =   3.511781502e+07 inf =   0.000e+00 (1482) 2\n",
      "* 75122: obj =   3.511781502e+07 inf =   0.000e+00 (1270) 2\n",
      "* 75336: obj =   3.511781502e+07 inf =   0.000e+00 (1056) 2\n",
      "* 75546: obj =   3.511781502e+07 inf =   0.000e+00 (846) 2\n",
      "* 75755: obj =   3.511781502e+07 inf =   0.000e+00 (637) 3\n",
      "* 75974: obj =   3.511781502e+07 inf =   0.000e+00 (418) 2\n",
      "* 76202: obj =   3.511781502e+07 inf =   0.000e+00 (192) 2\n",
      "Removing LP perturbation [76396]...\n",
      "* 76396: obj =   3.511781502e+07 inf =   0.000e+00 (0) 2\n",
      "OPTIMAL LP SOLUTION FOUND\n",
      "Time used:   1286.1 secs\n",
      "Memory used: 640.8 Mb (671952111 bytes)\n",
      "Writing basic solution to 'C:\\Users\\2F06~1\\AppData\\Local\\Temp\\linopy-solve-b56hzp98.sol'...\n"
     ]
    },
    {
     "name": "stderr",
     "output_type": "stream",
     "text": [
      "INFO:linopy.constants: Optimization successful: \n",
      "Status: ok\n",
      "Termination condition: optimal\n",
      "Solution: 352637 primals, 806020 duals\n",
      "Objective: 3.51e+07\n",
      "Solver model: not available\n",
      "Solver message: optimal\n",
      "\n"
     ]
    },
    {
     "data": {
      "text/plain": [
       "('ok', 'optimal')"
      ]
     },
     "execution_count": 24,
     "metadata": {},
     "output_type": "execute_result"
    }
   ],
   "source": [
    "network.optimize(network.snapshots, solver_name=\"glpk\", solver_options={})"
   ]
  },
  {
   "attachments": {},
   "cell_type": "markdown",
   "metadata": {},
   "source": [
    "## Αποτελέσματα και Σχόλια\n",
    "Παρακάτω εμφανίζονται τα δεδομένα της βελτιστοποίησης οπως είναι: το objective function, το μονογραμμικο διάγραμμα απο το network.iplot() της pypsa και γραφικές παραστάσεις στις οποίες απεικονίζονται η παραγωγή, η ζήτηση, ο ηλεκτρολυτης και το fuel cell και τέλος το store υδρογονου."
   ]
  },
  {
   "cell_type": "code",
   "execution_count": 25,
   "metadata": {},
   "outputs": [
    {
     "data": {
      "text/plain": [
       "35117815.02"
      ]
     },
     "execution_count": 25,
     "metadata": {},
     "output_type": "execute_result"
    }
   ],
   "source": [
    "#total system cost for the snapshots optimised\n",
    "network.objective "
   ]
  },
  {
   "cell_type": "code",
   "execution_count": 26,
   "metadata": {},
   "outputs": [
    {
     "data": {
      "application/vnd.plotly.v1+json": {
       "config": {
        "linkText": "Export to plot.ly",
        "plotlyServerURL": "https://plot.ly",
        "showLink": false
       },
       "data": [
        {
         "hoverinfo": "text",
         "marker": {
          "color": "cadetblue",
          "size": 10
         },
         "mode": "markers",
         "opacity": 1,
         "text": [
          "Bus Diesel",
          "Bus Solar",
          "Bus Hydrogen"
         ],
         "type": "scatter",
         "x": [
          -1,
          1,
          0
         ],
         "y": [
          -0.3333333333333333,
          -0.3333333333333333,
          0.6666666666666667
         ]
        },
        {
         "hoverinfo": "text",
         "marker": {
          "opacity": 0
         },
         "mode": "markers",
         "text": [
          "Link Electrolysis",
          "Link Fuel Cell"
         ],
         "type": "scatter",
         "x": [
          0.5,
          0.5
         ],
         "y": [
          0.1666666666666667,
          0.1666666666666667
         ]
        },
        {
         "hoverinfo": "text",
         "marker": {
          "opacity": 0
         },
         "mode": "markers",
         "text": [
          "Line Line"
         ],
         "type": "scatter",
         "x": [
          0
         ],
         "y": [
          -0.3333333333333333
         ]
        }
       ],
       "layout": {
        "hovermode": "closest",
        "shapes": [
         {
          "line": {
           "color": "darkseagreen",
           "width": 3
          },
          "opacity": 0.8,
          "type": "line",
          "x0": 1,
          "x1": 0,
          "y0": -0.3333333333333333,
          "y1": 0.6666666666666667
         },
         {
          "line": {
           "color": "darkseagreen",
           "width": 3
          },
          "opacity": 0.8,
          "type": "line",
          "x0": 0,
          "x1": 1,
          "y0": 0.6666666666666667,
          "y1": -0.3333333333333333
         },
         {
          "line": {
           "color": "rosybrown",
           "width": 3
          },
          "opacity": 0.8,
          "type": "line",
          "x0": -1,
          "x1": 1,
          "y0": -0.3333333333333333,
          "y1": -0.3333333333333333
         }
        ],
        "showlegend": false,
        "template": {
         "data": {
          "bar": [
           {
            "error_x": {
             "color": "#2a3f5f"
            },
            "error_y": {
             "color": "#2a3f5f"
            },
            "marker": {
             "line": {
              "color": "#E5ECF6",
              "width": 0.5
             },
             "pattern": {
              "fillmode": "overlay",
              "size": 10,
              "solidity": 0.2
             }
            },
            "type": "bar"
           }
          ],
          "barpolar": [
           {
            "marker": {
             "line": {
              "color": "#E5ECF6",
              "width": 0.5
             },
             "pattern": {
              "fillmode": "overlay",
              "size": 10,
              "solidity": 0.2
             }
            },
            "type": "barpolar"
           }
          ],
          "carpet": [
           {
            "aaxis": {
             "endlinecolor": "#2a3f5f",
             "gridcolor": "white",
             "linecolor": "white",
             "minorgridcolor": "white",
             "startlinecolor": "#2a3f5f"
            },
            "baxis": {
             "endlinecolor": "#2a3f5f",
             "gridcolor": "white",
             "linecolor": "white",
             "minorgridcolor": "white",
             "startlinecolor": "#2a3f5f"
            },
            "type": "carpet"
           }
          ],
          "choropleth": [
           {
            "colorbar": {
             "outlinewidth": 0,
             "ticks": ""
            },
            "type": "choropleth"
           }
          ],
          "contour": [
           {
            "colorbar": {
             "outlinewidth": 0,
             "ticks": ""
            },
            "colorscale": [
             [
              0,
              "#0d0887"
             ],
             [
              0.1111111111111111,
              "#46039f"
             ],
             [
              0.2222222222222222,
              "#7201a8"
             ],
             [
              0.3333333333333333,
              "#9c179e"
             ],
             [
              0.4444444444444444,
              "#bd3786"
             ],
             [
              0.5555555555555556,
              "#d8576b"
             ],
             [
              0.6666666666666666,
              "#ed7953"
             ],
             [
              0.7777777777777778,
              "#fb9f3a"
             ],
             [
              0.8888888888888888,
              "#fdca26"
             ],
             [
              1,
              "#f0f921"
             ]
            ],
            "type": "contour"
           }
          ],
          "contourcarpet": [
           {
            "colorbar": {
             "outlinewidth": 0,
             "ticks": ""
            },
            "type": "contourcarpet"
           }
          ],
          "heatmap": [
           {
            "colorbar": {
             "outlinewidth": 0,
             "ticks": ""
            },
            "colorscale": [
             [
              0,
              "#0d0887"
             ],
             [
              0.1111111111111111,
              "#46039f"
             ],
             [
              0.2222222222222222,
              "#7201a8"
             ],
             [
              0.3333333333333333,
              "#9c179e"
             ],
             [
              0.4444444444444444,
              "#bd3786"
             ],
             [
              0.5555555555555556,
              "#d8576b"
             ],
             [
              0.6666666666666666,
              "#ed7953"
             ],
             [
              0.7777777777777778,
              "#fb9f3a"
             ],
             [
              0.8888888888888888,
              "#fdca26"
             ],
             [
              1,
              "#f0f921"
             ]
            ],
            "type": "heatmap"
           }
          ],
          "heatmapgl": [
           {
            "colorbar": {
             "outlinewidth": 0,
             "ticks": ""
            },
            "colorscale": [
             [
              0,
              "#0d0887"
             ],
             [
              0.1111111111111111,
              "#46039f"
             ],
             [
              0.2222222222222222,
              "#7201a8"
             ],
             [
              0.3333333333333333,
              "#9c179e"
             ],
             [
              0.4444444444444444,
              "#bd3786"
             ],
             [
              0.5555555555555556,
              "#d8576b"
             ],
             [
              0.6666666666666666,
              "#ed7953"
             ],
             [
              0.7777777777777778,
              "#fb9f3a"
             ],
             [
              0.8888888888888888,
              "#fdca26"
             ],
             [
              1,
              "#f0f921"
             ]
            ],
            "type": "heatmapgl"
           }
          ],
          "histogram": [
           {
            "marker": {
             "pattern": {
              "fillmode": "overlay",
              "size": 10,
              "solidity": 0.2
             }
            },
            "type": "histogram"
           }
          ],
          "histogram2d": [
           {
            "colorbar": {
             "outlinewidth": 0,
             "ticks": ""
            },
            "colorscale": [
             [
              0,
              "#0d0887"
             ],
             [
              0.1111111111111111,
              "#46039f"
             ],
             [
              0.2222222222222222,
              "#7201a8"
             ],
             [
              0.3333333333333333,
              "#9c179e"
             ],
             [
              0.4444444444444444,
              "#bd3786"
             ],
             [
              0.5555555555555556,
              "#d8576b"
             ],
             [
              0.6666666666666666,
              "#ed7953"
             ],
             [
              0.7777777777777778,
              "#fb9f3a"
             ],
             [
              0.8888888888888888,
              "#fdca26"
             ],
             [
              1,
              "#f0f921"
             ]
            ],
            "type": "histogram2d"
           }
          ],
          "histogram2dcontour": [
           {
            "colorbar": {
             "outlinewidth": 0,
             "ticks": ""
            },
            "colorscale": [
             [
              0,
              "#0d0887"
             ],
             [
              0.1111111111111111,
              "#46039f"
             ],
             [
              0.2222222222222222,
              "#7201a8"
             ],
             [
              0.3333333333333333,
              "#9c179e"
             ],
             [
              0.4444444444444444,
              "#bd3786"
             ],
             [
              0.5555555555555556,
              "#d8576b"
             ],
             [
              0.6666666666666666,
              "#ed7953"
             ],
             [
              0.7777777777777778,
              "#fb9f3a"
             ],
             [
              0.8888888888888888,
              "#fdca26"
             ],
             [
              1,
              "#f0f921"
             ]
            ],
            "type": "histogram2dcontour"
           }
          ],
          "mesh3d": [
           {
            "colorbar": {
             "outlinewidth": 0,
             "ticks": ""
            },
            "type": "mesh3d"
           }
          ],
          "parcoords": [
           {
            "line": {
             "colorbar": {
              "outlinewidth": 0,
              "ticks": ""
             }
            },
            "type": "parcoords"
           }
          ],
          "pie": [
           {
            "automargin": true,
            "type": "pie"
           }
          ],
          "scatter": [
           {
            "fillpattern": {
             "fillmode": "overlay",
             "size": 10,
             "solidity": 0.2
            },
            "type": "scatter"
           }
          ],
          "scatter3d": [
           {
            "line": {
             "colorbar": {
              "outlinewidth": 0,
              "ticks": ""
             }
            },
            "marker": {
             "colorbar": {
              "outlinewidth": 0,
              "ticks": ""
             }
            },
            "type": "scatter3d"
           }
          ],
          "scattercarpet": [
           {
            "marker": {
             "colorbar": {
              "outlinewidth": 0,
              "ticks": ""
             }
            },
            "type": "scattercarpet"
           }
          ],
          "scattergeo": [
           {
            "marker": {
             "colorbar": {
              "outlinewidth": 0,
              "ticks": ""
             }
            },
            "type": "scattergeo"
           }
          ],
          "scattergl": [
           {
            "marker": {
             "colorbar": {
              "outlinewidth": 0,
              "ticks": ""
             }
            },
            "type": "scattergl"
           }
          ],
          "scattermapbox": [
           {
            "marker": {
             "colorbar": {
              "outlinewidth": 0,
              "ticks": ""
             }
            },
            "type": "scattermapbox"
           }
          ],
          "scatterpolar": [
           {
            "marker": {
             "colorbar": {
              "outlinewidth": 0,
              "ticks": ""
             }
            },
            "type": "scatterpolar"
           }
          ],
          "scatterpolargl": [
           {
            "marker": {
             "colorbar": {
              "outlinewidth": 0,
              "ticks": ""
             }
            },
            "type": "scatterpolargl"
           }
          ],
          "scatterternary": [
           {
            "marker": {
             "colorbar": {
              "outlinewidth": 0,
              "ticks": ""
             }
            },
            "type": "scatterternary"
           }
          ],
          "surface": [
           {
            "colorbar": {
             "outlinewidth": 0,
             "ticks": ""
            },
            "colorscale": [
             [
              0,
              "#0d0887"
             ],
             [
              0.1111111111111111,
              "#46039f"
             ],
             [
              0.2222222222222222,
              "#7201a8"
             ],
             [
              0.3333333333333333,
              "#9c179e"
             ],
             [
              0.4444444444444444,
              "#bd3786"
             ],
             [
              0.5555555555555556,
              "#d8576b"
             ],
             [
              0.6666666666666666,
              "#ed7953"
             ],
             [
              0.7777777777777778,
              "#fb9f3a"
             ],
             [
              0.8888888888888888,
              "#fdca26"
             ],
             [
              1,
              "#f0f921"
             ]
            ],
            "type": "surface"
           }
          ],
          "table": [
           {
            "cells": {
             "fill": {
              "color": "#EBF0F8"
             },
             "line": {
              "color": "white"
             }
            },
            "header": {
             "fill": {
              "color": "#C8D4E3"
             },
             "line": {
              "color": "white"
             }
            },
            "type": "table"
           }
          ]
         },
         "layout": {
          "annotationdefaults": {
           "arrowcolor": "#2a3f5f",
           "arrowhead": 0,
           "arrowwidth": 1
          },
          "autotypenumbers": "strict",
          "coloraxis": {
           "colorbar": {
            "outlinewidth": 0,
            "ticks": ""
           }
          },
          "colorscale": {
           "diverging": [
            [
             0,
             "#8e0152"
            ],
            [
             0.1,
             "#c51b7d"
            ],
            [
             0.2,
             "#de77ae"
            ],
            [
             0.3,
             "#f1b6da"
            ],
            [
             0.4,
             "#fde0ef"
            ],
            [
             0.5,
             "#f7f7f7"
            ],
            [
             0.6,
             "#e6f5d0"
            ],
            [
             0.7,
             "#b8e186"
            ],
            [
             0.8,
             "#7fbc41"
            ],
            [
             0.9,
             "#4d9221"
            ],
            [
             1,
             "#276419"
            ]
           ],
           "sequential": [
            [
             0,
             "#0d0887"
            ],
            [
             0.1111111111111111,
             "#46039f"
            ],
            [
             0.2222222222222222,
             "#7201a8"
            ],
            [
             0.3333333333333333,
             "#9c179e"
            ],
            [
             0.4444444444444444,
             "#bd3786"
            ],
            [
             0.5555555555555556,
             "#d8576b"
            ],
            [
             0.6666666666666666,
             "#ed7953"
            ],
            [
             0.7777777777777778,
             "#fb9f3a"
            ],
            [
             0.8888888888888888,
             "#fdca26"
            ],
            [
             1,
             "#f0f921"
            ]
           ],
           "sequentialminus": [
            [
             0,
             "#0d0887"
            ],
            [
             0.1111111111111111,
             "#46039f"
            ],
            [
             0.2222222222222222,
             "#7201a8"
            ],
            [
             0.3333333333333333,
             "#9c179e"
            ],
            [
             0.4444444444444444,
             "#bd3786"
            ],
            [
             0.5555555555555556,
             "#d8576b"
            ],
            [
             0.6666666666666666,
             "#ed7953"
            ],
            [
             0.7777777777777778,
             "#fb9f3a"
            ],
            [
             0.8888888888888888,
             "#fdca26"
            ],
            [
             1,
             "#f0f921"
            ]
           ]
          },
          "colorway": [
           "#636efa",
           "#EF553B",
           "#00cc96",
           "#ab63fa",
           "#FFA15A",
           "#19d3f3",
           "#FF6692",
           "#B6E880",
           "#FF97FF",
           "#FECB52"
          ],
          "font": {
           "color": "#2a3f5f"
          },
          "geo": {
           "bgcolor": "white",
           "lakecolor": "white",
           "landcolor": "#E5ECF6",
           "showlakes": true,
           "showland": true,
           "subunitcolor": "white"
          },
          "hoverlabel": {
           "align": "left"
          },
          "hovermode": "closest",
          "mapbox": {
           "style": "light"
          },
          "paper_bgcolor": "white",
          "plot_bgcolor": "#E5ECF6",
          "polar": {
           "angularaxis": {
            "gridcolor": "white",
            "linecolor": "white",
            "ticks": ""
           },
           "bgcolor": "#E5ECF6",
           "radialaxis": {
            "gridcolor": "white",
            "linecolor": "white",
            "ticks": ""
           }
          },
          "scene": {
           "xaxis": {
            "backgroundcolor": "#E5ECF6",
            "gridcolor": "white",
            "gridwidth": 2,
            "linecolor": "white",
            "showbackground": true,
            "ticks": "",
            "zerolinecolor": "white"
           },
           "yaxis": {
            "backgroundcolor": "#E5ECF6",
            "gridcolor": "white",
            "gridwidth": 2,
            "linecolor": "white",
            "showbackground": true,
            "ticks": "",
            "zerolinecolor": "white"
           },
           "zaxis": {
            "backgroundcolor": "#E5ECF6",
            "gridcolor": "white",
            "gridwidth": 2,
            "linecolor": "white",
            "showbackground": true,
            "ticks": "",
            "zerolinecolor": "white"
           }
          },
          "shapedefaults": {
           "line": {
            "color": "#2a3f5f"
           }
          },
          "ternary": {
           "aaxis": {
            "gridcolor": "white",
            "linecolor": "white",
            "ticks": ""
           },
           "baxis": {
            "gridcolor": "white",
            "linecolor": "white",
            "ticks": ""
           },
           "bgcolor": "#E5ECF6",
           "caxis": {
            "gridcolor": "white",
            "linecolor": "white",
            "ticks": ""
           }
          },
          "title": {
           "x": 0.05
          },
          "xaxis": {
           "automargin": true,
           "gridcolor": "white",
           "linecolor": "white",
           "ticks": "",
           "title": {
            "standoff": 15
           },
           "zerolinecolor": "white",
           "zerolinewidth": 2
          },
          "yaxis": {
           "automargin": true,
           "gridcolor": "white",
           "linecolor": "white",
           "ticks": "",
           "title": {
            "standoff": 15
           },
           "zerolinecolor": "white",
           "zerolinewidth": 2
          }
         }
        },
        "title": {
         "text": ""
        }
       }
      }
     },
     "metadata": {},
     "output_type": "display_data"
    },
    {
     "data": {
      "text/plain": [
       "{'data': [{'x': Diesel     -1.0\n",
       "   Solar       1.0\n",
       "   Hydrogen    0.0\n",
       "   Name: x, dtype: float64,\n",
       "   'y': Diesel     -0.333333\n",
       "   Solar      -0.333333\n",
       "   Hydrogen    0.666667\n",
       "   Name: y, dtype: float64,\n",
       "   'text': Index(['Bus Diesel', 'Bus Solar', 'Bus Hydrogen'], dtype='object', name='Bus'),\n",
       "   'type': 'scatter',\n",
       "   'mode': 'markers',\n",
       "   'hoverinfo': 'text',\n",
       "   'opacity': 1,\n",
       "   'marker': {'color': 'cadetblue', 'size': 10}},\n",
       "  {'x': Link\n",
       "   Electrolysis    0.5\n",
       "   Fuel Cell       0.5\n",
       "   dtype: float64,\n",
       "   'y': Link\n",
       "   Electrolysis    0.166667\n",
       "   Fuel Cell       0.166667\n",
       "   dtype: float64,\n",
       "   'text': Index(['Link Electrolysis', 'Link Fuel Cell'], dtype='object', name='Link'),\n",
       "   'type': 'scatter',\n",
       "   'mode': 'markers',\n",
       "   'hoverinfo': 'text',\n",
       "   'marker': {'opacity': 0.0}},\n",
       "  {'x': Line\n",
       "   Line    0.0\n",
       "   dtype: float64,\n",
       "   'y': Line\n",
       "   Line   -0.333333\n",
       "   dtype: float64,\n",
       "   'text': Index(['Line Line'], dtype='object', name='Line'),\n",
       "   'type': 'scatter',\n",
       "   'mode': 'markers',\n",
       "   'hoverinfo': 'text',\n",
       "   'marker': {'opacity': 0.0}}],\n",
       " 'layout': {'title': '',\n",
       "  'hovermode': 'closest',\n",
       "  'showlegend': False,\n",
       "  'shapes': [{'type': 'line',\n",
       "    'opacity': 0.8,\n",
       "    'x0': 1.0,\n",
       "    'y0': -0.3333333333333333,\n",
       "    'x1': 0.0,\n",
       "    'y1': 0.6666666666666667,\n",
       "    'line': {'color': 'darkseagreen', 'width': 3}},\n",
       "   {'type': 'line',\n",
       "    'opacity': 0.8,\n",
       "    'x0': 0.0,\n",
       "    'y0': 0.6666666666666667,\n",
       "    'x1': 1.0,\n",
       "    'y1': -0.3333333333333333,\n",
       "    'line': {'color': 'darkseagreen', 'width': 3}},\n",
       "   {'type': 'line',\n",
       "    'opacity': 0.8,\n",
       "    'x0': -1.0,\n",
       "    'y0': -0.3333333333333333,\n",
       "    'x1': 1.0,\n",
       "    'y1': -0.3333333333333333,\n",
       "    'line': {'color': 'rosybrown', 'width': 3}}]}}"
      ]
     },
     "execution_count": 26,
     "metadata": {},
     "output_type": "execute_result"
    }
   ],
   "source": [
    "network.iplot()"
   ]
  },
  {
   "attachments": {},
   "cell_type": "markdown",
   "metadata": {},
   "source": [
    "Οι δύο πρωτες γραφικές αφορούν το σύστημα για ολόκληρο το διάστημα της προσωμόιωσης (5 χρονια, 9 μηνες) και παρατηρούμε ότι το Power to Gas σύστημα δεν λειτουργει.\\\n",
    "Αυτο συμβαίνει διότι με τις σημερινές τιμές των στοιχείων το σύστημα χρησιμοποιεί την ενέργεια απο την γεννητρια diesel ακομα και αν το λειτουργικο της κοστος της ειναι πιο ακριβό, αφού το κόστος κεφαλαίου του ηλεκτρολύτη και του fuel cell ειναι πολυ ακριβά."
   ]
  },
  {
   "cell_type": "code",
   "execution_count": 27,
   "metadata": {},
   "outputs": [
    {
     "data": {
      "text/plain": [
       "<Axes: xlabel='snapshot'>"
      ]
     },
     "execution_count": 27,
     "metadata": {},
     "output_type": "execute_result"
    },
    {
     "data": {
      "image/png": "[encoded data removed]",
      "text/plain": [
       "<Figure size 1000x500 with 1 Axes>"
      ]
     },
     "metadata": {},
     "output_type": "display_data"
    },
    {
     "data": {
      "image/png": "[encoded data removed]",
      "text/plain": [
       "<Figure size 1000x500 with 1 Axes>"
      ]
     },
     "metadata": {},
     "output_type": "display_data"
    }
   ],
   "source": [
    "df=pd.concat([network.generators_t.p, network.links_t.p0, network.loads_t.p],axis=1)\n",
    "df.plot(rot=45)\n",
    "network.stores_t.e.plot(rot=45)"
   ]
  },
  {
   "attachments": {},
   "cell_type": "markdown",
   "metadata": {},
   "source": [
    "Στις παρακάτω γραφικές μπορούμε να δούμε την απόκριση του συστηματος για το διάστημα **'2020-07-22':'2020-07-25'** όπου και είναι εμφανές ότι η γεννήτρια λειτουργεί τα βράδια, που δεν υπάρχει ΦΒ παραγωγή, ώστε να καλύψει το φορτίο, ενώ τα μεσημέρια η γεννήτρια λειτουργεί στο 30% ονομαστικής ισχύος για λόγους ευστάθειας και το ΦΒ πάρκο παράγει ενέργεια και η ενέργεια αυτή προτιμάται καθώς το λειτουργικό της κόστος είναι πιο φθηνό."
   ]
  },
  {
   "cell_type": "code",
   "execution_count": 28,
   "metadata": {},
   "outputs": [
    {
     "data": {
      "text/plain": [
       "<Axes: xlabel='snapshot'>"
      ]
     },
     "execution_count": 28,
     "metadata": {},
     "output_type": "execute_result"
    },
    {
     "data": {
      "image/png": "[encoded data removed]",
      "text/plain": [
       "<Figure size 1000x500 with 1 Axes>"
      ]
     },
     "metadata": {},
     "output_type": "display_data"
    },
    {
     "data": {
      "image/png": "[encoded data removed]",
      "text/plain": [
       "<Figure size 1000x500 with 1 Axes>"
      ]
     },
     "metadata": {},
     "output_type": "display_data"
    }
   ],
   "source": [
    "df=pd.concat([network.generators_t.p, network.links_t.p0, network.loads_t.p],axis=1)\n",
    "df['2020-07-22':'2020-07-25'].plot(rot=45)\n",
    "network.stores_t.e['2020-07-22':'2020-07-25'].plot(rot=45)"
   ]
  }
 ],
 "metadata": {
  "kernelspec": {
   "display_name": "test2",
   "language": "python",
   "name": "python3"
  },
  "language_info": {
   "codemirror_mode": {
    "name": "ipython",
    "version": 3
   },
   "file_extension": ".py",
   "mimetype": "text/x-python",
   "name": "python",
   "nbconvert_exporter": "python",
   "pygments_lexer": "ipython3",
   "version": "3.11.3"
  },
  "orig_nbformat": 4
 },
 "nbformat": 4,
 "nbformat_minor": 2
}
