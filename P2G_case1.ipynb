{
 "cells": [
  {
   "cell_type": "code",
   "execution_count": 1,
   "metadata": {},
   "outputs": [
    {
     "name": "stderr",
     "output_type": "stream",
     "text": [
      "c:\\miniconda3\\envs\\test2\\Lib\\site-packages\\pypsa\\networkclustering.py:16: UserWarning:\n",
      "\n",
      "The namespace `pypsa.networkclustering` is deprecated and will be removed in PyPSA v0.24. Please use `pypsa.clustering.spatial instead`. \n",
      "\n"
     ]
    }
   ],
   "source": [
    "import numpy as np\n",
    "import pypsa\n",
    "import pandas as pd\n",
    "import matplotlib.pyplot as plt\n",
    "plt.rcParams['figure.figsize'] = [10, 5]\n",
    "from pyomo.environ import Constraint\n",
    "import logging\n",
    "import datetime"
   ]
  },
  {
   "cell_type": "code",
   "execution_count": 2,
   "metadata": {},
   "outputs": [],
   "source": [
    "%matplotlib inline\n",
    "logging.basicConfig(level=\"INFO\")"
   ]
  },
  {
   "attachments": {},
   "cell_type": "markdown",
   "metadata": {},
   "source": [
    "## Δεδομένα Παραγωγής και Κατανάλωσης"
   ]
  },
  {
   "cell_type": "code",
   "execution_count": 3,
   "metadata": {},
   "outputs": [
    {
     "data": {
      "text/plain": [
       "count    1.000000\n",
       "mean     1.174941\n",
       "std           NaN\n",
       "min      1.174941\n",
       "25%      1.174941\n",
       "50%      1.174941\n",
       "75%      1.174941\n",
       "max      1.174941\n",
       "Name: GR_solar_generation_actual, dtype: float64"
      ]
     },
     "execution_count": 3,
     "metadata": {},
     "output_type": "execute_result"
    }
   ],
   "source": [
    "data=pd.read_csv(\"time_series_60min_singleindex.csv\", parse_dates=True)\n",
    "data.set_index(['utc_timestamp'], inplace=True)\n",
    "gr_cols = [col for col in data.columns if col.startswith('GR_')]\n",
    "data=data[gr_cols]\n",
    "# data=data['2015-01-01T12:00:00Z':'2015-01-01T12:00:00Z']\n",
    "data=data['2015-01-01':'2020-09-30']\n",
    "\n",
    "data=data.fillna(method='pad')\n",
    "data=data.fillna(method='backfill')\n",
    "data_load=data['GR_load_actual_entsoe_transparency']/2000 #Υποθετω οτι ειναι για 10.000.000/2.000 = 5.000 άτομα\n",
    "data_pvprod=data['GR_solar_generation_actual']/(2115/5)  \n",
    "data_pvprod.describe()"
   ]
  },
  {
   "cell_type": "code",
   "execution_count": 52,
   "metadata": {},
   "outputs": [
    {
     "data": {
      "text/plain": [
       "count    1.000000\n",
       "mean     3.134375\n",
       "std           NaN\n",
       "min      3.134375\n",
       "25%      3.134375\n",
       "50%      3.134375\n",
       "75%      3.134375\n",
       "max      3.134375\n",
       "Name: GR_load_actual_entsoe_transparency, dtype: float64"
      ]
     },
     "execution_count": 52,
     "metadata": {},
     "output_type": "execute_result"
    }
   ],
   "source": [
    "data_load.describe()"
   ]
  },
  {
   "cell_type": "code",
   "execution_count": 53,
   "metadata": {},
   "outputs": [
    {
     "data": {
      "text/plain": [
       "count    1.000000\n",
       "mean     1.174941\n",
       "std           NaN\n",
       "min      1.174941\n",
       "25%      1.174941\n",
       "50%      1.174941\n",
       "75%      1.174941\n",
       "max      1.174941\n",
       "Name: GR_solar_generation_actual, dtype: float64"
      ]
     },
     "execution_count": 53,
     "metadata": {},
     "output_type": "execute_result"
    }
   ],
   "source": [
    "data_pvprod.describe()"
   ]
  },
  {
   "attachments": {},
   "cell_type": "markdown",
   "metadata": {},
   "source": [
    "## Προσομοίωση Δικτύου"
   ]
  },
  {
   "cell_type": "code",
   "execution_count": 54,
   "metadata": {},
   "outputs": [],
   "source": [
    "network = pypsa.Network()\n",
    "network.set_snapshots(data.index)"
   ]
  },
  {
   "cell_type": "code",
   "execution_count": 55,
   "metadata": {},
   "outputs": [],
   "source": [
    "#Add buses and carriers to the network\n",
    "network.add(\"Bus\", \"Diesel\", carrier='AC')\n",
    "network.add(\"Carrier\", \"diesel\",co2_emissions=0) \n",
    "\n",
    "network.add(\"Bus\", \"Solar\", carrier=\"AC\")\n",
    "network.add(\"Carrier\", \"solar\")\n",
    "\n",
    "#Add line\n",
    "network.add(\"Line\",\"Line\",bus0=\"Diesel\",bus1=\"Solar\", r=0.01, x=0.1, s_nom_extendable=True)\n",
    "\n",
    "#Add generators\n",
    "network.add(\n",
    "    \"Generator\",\n",
    "    \"Diesel Gen\",\n",
    "    bus=\"Diesel\",\n",
    "    carrier=\"diesel\",\n",
    "    p_nom=5, #MW\n",
    "    p_nom_extendable=False,\n",
    "    p_min_pu=0.3, \n",
    "    control=\"Slack\",\n",
    "    capital_cost=0, #Capital cost of extending p_nom by 1 MW (€/MW)\n",
    "    marginal_cost=305,#diesel:0.2€/kWh, CO2 emissions: 80-85€/tCO2*1.27 tonnes/MWh = 105€/MWh (€/MWh)\n",
    "    )\n",
    "\n",
    "network.add(\n",
    "    \"Generator\",\n",
    "    \"PV Park\",\n",
    "    bus=\"Solar\", \n",
    "    carrier=\"solar\",\n",
    "    control=\"PV\", \n",
    "    p_nom=1, #MW \n",
    "    p_nom_extendable=False,\n",
    "    p_max_pu=np.array(data_pvprod),\n",
    "    capital_cost=0, #Capital cost of extending p_nom by 1 MW (€/MW)\n",
    "    marginal_cost=24 # 20-60€/MWh\n",
    "    )\n",
    "\n",
    "#Add loads\n",
    "network.add(\"Load\", \"load 1\", bus=\"Solar\", p_set=np.array(data_load)) \n"
   ]
  },
  {
   "attachments": {},
   "cell_type": "markdown",
   "metadata": {},
   "source": [
    "## Προσωμοίωση Power to Gas  "
   ]
  },
  {
   "cell_type": "code",
   "execution_count": 56,
   "metadata": {},
   "outputs": [],
   "source": [
    "network.add(\"Bus\", \"Hydrogen\", carrier=\"hydrogen\")\n",
    "\n",
    "network.add(\"Carrier\", \"hydrogen\")\n",
    "network.add(\"Carrier\", \"electrolysis\")\n",
    "network.add(\"Carrier\", \"fuel cell\")\n",
    "\n",
    "#Add electrolysis and fuel cell links\n",
    "network.add(\n",
    "    \"Link\",\n",
    "    \"Electrolysis\",\n",
    "    bus0=\"Solar\",\n",
    "    bus1=\"Hydrogen\",\n",
    "    carrier=\"electrolysis\",\n",
    "    efficiency=0.7, \n",
    "    p_nom=2.5, #Limit of active power which can pass through link. \n",
    "    p_nom_extendable=True, \n",
    "    #p_min_pu=0.2, \n",
    "    #p_max_pu=1, \n",
    "    capital_cost=1000000/5, #Capital cost of extending p_nom by 1 MW (€/MW)\n",
    "    marginal_cost=110,  #0.06-0.2€ per kWh (€/MWh)\n",
    "    )    \n",
    "\n",
    "network.add(\n",
    "    \"Link\",\n",
    "    \"Fuel Cell\",\n",
    "    bus0=\"Hydrogen\",\n",
    "    bus1=\"Solar\",\n",
    "    carrier=\"fuel cell\",\n",
    "    efficiency=0.6, \n",
    "    p_nom=1.2, #Limit of active power which can pass through link. \n",
    "    #p_max_pu=1, \n",
    "    p_nom_extendable=True,\n",
    "    capital_cost=1000000/5, #Capital cost of extending p_nom by 1 MW (€/MW)\n",
    "    marginal_cost=110,# 0.1-0.3€ per kWh (€/MWh)\n",
    "    )\n",
    "\n",
    "#Add H2 store \n",
    "network.add(\n",
    "    \"Store\", \n",
    "    \"H2\", \n",
    "    bus=\"Hydrogen\", \n",
    "    carrier=\"hydrogen\", \n",
    "    e_nom=15, #Nominal energy capacity (MWh)\n",
    "    # e_cyclic=True, \n",
    "    e_nom_extendable=True,\n",
    "    capital_cost=40000/5, #Capital cost of extending p_nom by 1 MW (€/MWh) \n",
    "    marginal_cost=10,\n",
    "    )\n",
    "\n",
    "#network.add(\"Load\", \"load 2\", bus=\"Hydrogen\", p_set=0.3)\n"
   ]
  },
  {
   "attachments": {},
   "cell_type": "markdown",
   "metadata": {},
   "source": [
    "## Ροη φορτιου και βελτιστοποιηση\n",
    "Χρησιμοποείται η εντολή network.optimize() για να τρέξει το σύστημα και να βελτιστοποιηθεί το αποτέλεσμα. Ο χρόνος εκτέλεσης ειναι 21min 7sec."
   ]
  },
  {
   "cell_type": "code",
   "execution_count": 57,
   "metadata": {},
   "outputs": [
    {
     "name": "stderr",
     "output_type": "stream",
     "text": [
      "<__array_function__ internals>:200: RuntimeWarning:\n",
      "\n",
      "invalid value encountered in cast\n",
      "\n",
      "<__array_function__ internals>:200: RuntimeWarning:\n",
      "\n",
      "invalid value encountered in cast\n",
      "\n",
      "<__array_function__ internals>:200: RuntimeWarning:\n",
      "\n",
      "invalid value encountered in cast\n",
      "\n",
      "INFO:linopy.model: Solve linear problem using Glpk solver\n",
      "INFO:linopy.io: Writing time: 0.4s\n",
      "INFO:linopy.constants: Optimization successful: \n",
      "Status: ok\n",
      "Termination condition: optimal\n",
      "Solution: 12 primals, 20 duals\n",
      "Objective: -8.59e+05\n",
      "Solver model: not available\n",
      "Solver message: optimal\n",
      "\n"
     ]
    },
    {
     "name": "stdout",
     "output_type": "stream",
     "text": [
      "GLPSOL: GLPK LP/MIP Solver, v4.65\n",
      "Parameter(s) specified in the command line:\n",
      " --lp C:\\Users\\2F06~1\\AppData\\Local\\Temp\\linopy-problem-_7t3iyss.lp --output\n",
      " C:\\Users\\2F06~1\\AppData\\Local\\Temp\\linopy-solve-zz4jgfhh.sol\n",
      "Reading problem data from 'C:\\Users\\2F06~1\\AppData\\Local\\Temp\\linopy-problem-_7t3iyss.lp'...\n",
      "20 rows, 12 columns, 32 non-zeros\n",
      "154 lines were read\n",
      "GLPK Simplex Optimizer, v4.65\n",
      "20 rows, 12 columns, 32 non-zeros\n",
      "Preprocessing...\n",
      "2 rows, 3 columns, 5 non-zeros\n",
      "Scaling...\n",
      " A: min|aij| =  6.000e-01  max|aij| =  1.000e+00  ratio =  1.667e+00\n",
      "Problem data seem to be well scaled\n",
      "Constructing initial basis...\n",
      "Size of triangular part is 2\n",
      "      0: obj =  -8.595032750e+05 inf =   4.594e-01 (1)\n",
      "      1: obj =  -8.593741740e+05 inf =   0.000e+00 (0)\n",
      "OPTIMAL LP SOLUTION FOUND\n",
      "Time used:   0.0 secs\n",
      "Memory used: 0.0 Mb (40412 bytes)\n",
      "Writing basic solution to 'C:\\Users\\2F06~1\\AppData\\Local\\Temp\\linopy-solve-zz4jgfhh.sol'...\n"
     ]
    },
    {
     "data": {
      "text/plain": [
       "('ok', 'optimal')"
      ]
     },
     "execution_count": 57,
     "metadata": {},
     "output_type": "execute_result"
    }
   ],
   "source": [
    "network.optimize(network.snapshots, solver_name=\"glpk\", solver_options={})"
   ]
  },
  {
   "attachments": {},
   "cell_type": "markdown",
   "metadata": {},
   "source": [
    "## Αποτελέσματα και Σχόλια\n",
    "Παρακάτω εμφανίζονται τα δεδομένα της βελτιστοποίησης οπως είναι: το objective function, το μονογραμμικο διάγραμμα απο το network.iplot() της pypsa και γραφικές παραστάσεις στις οποίες απεικονίζονται η παραγωγή, η ζήτηση, ο ηλεκτρολυτης και το fuel cell και τέλος το store υδρογονου."
   ]
  },
  {
   "cell_type": "code",
   "execution_count": 58,
   "metadata": {},
   "outputs": [
    {
     "data": {
      "text/plain": [
       "-859374.174"
      ]
     },
     "execution_count": 58,
     "metadata": {},
     "output_type": "execute_result"
    }
   ],
   "source": [
    "#total system cost for the snapshots optimised\n",
    "network.objective "
   ]
  },
  {
   "cell_type": "code",
   "execution_count": 59,
   "metadata": {},
   "outputs": [
    {
     "data": {
      "application/vnd.plotly.v1+json": {
       "config": {
        "linkText": "Export to plot.ly",
        "plotlyServerURL": "https://plot.ly",
        "showLink": false
       },
       "data": [
        {
         "hoverinfo": "text",
         "marker": {
          "color": "cadetblue",
          "size": 10
         },
         "mode": "markers",
         "opacity": 1,
         "text": [
          "Bus Diesel",
          "Bus Solar",
          "Bus Hydrogen"
         ],
         "type": "scatter",
         "x": [
          -1,
          1,
          0
         ],
         "y": [
          -0.3333333333333333,
          -0.3333333333333333,
          0.6666666666666667
         ]
        },
        {
         "hoverinfo": "text",
         "marker": {
          "opacity": 0
         },
         "mode": "markers",
         "text": [
          "Link Electrolysis",
          "Link Fuel Cell"
         ],
         "type": "scatter",
         "x": [
          0.5,
          0.5
         ],
         "y": [
          0.1666666666666667,
          0.1666666666666667
         ]
        },
        {
         "hoverinfo": "text",
         "marker": {
          "opacity": 0
         },
         "mode": "markers",
         "text": [
          "Line Line"
         ],
         "type": "scatter",
         "x": [
          0
         ],
         "y": [
          -0.3333333333333333
         ]
        }
       ],
       "layout": {
        "hovermode": "closest",
        "shapes": [
         {
          "line": {
           "color": "darkseagreen",
           "width": 3
          },
          "opacity": 0.8,
          "type": "line",
          "x0": 1,
          "x1": 0,
          "y0": -0.3333333333333333,
          "y1": 0.6666666666666667
         },
         {
          "line": {
           "color": "darkseagreen",
           "width": 3
          },
          "opacity": 0.8,
          "type": "line",
          "x0": 0,
          "x1": 1,
          "y0": 0.6666666666666667,
          "y1": -0.3333333333333333
         },
         {
          "line": {
           "color": "rosybrown",
           "width": 3
          },
          "opacity": 0.8,
          "type": "line",
          "x0": -1,
          "x1": 1,
          "y0": -0.3333333333333333,
          "y1": -0.3333333333333333
         }
        ],
        "showlegend": false,
        "template": {
         "data": {
          "bar": [
           {
            "error_x": {
             "color": "#2a3f5f"
            },
            "error_y": {
             "color": "#2a3f5f"
            },
            "marker": {
             "line": {
              "color": "#E5ECF6",
              "width": 0.5
             },
             "pattern": {
              "fillmode": "overlay",
              "size": 10,
              "solidity": 0.2
             }
            },
            "type": "bar"
           }
          ],
          "barpolar": [
           {
            "marker": {
             "line": {
              "color": "#E5ECF6",
              "width": 0.5
             },
             "pattern": {
              "fillmode": "overlay",
              "size": 10,
              "solidity": 0.2
             }
            },
            "type": "barpolar"
           }
          ],
          "carpet": [
           {
            "aaxis": {
             "endlinecolor": "#2a3f5f",
             "gridcolor": "white",
             "linecolor": "white",
             "minorgridcolor": "white",
             "startlinecolor": "#2a3f5f"
            },
            "baxis": {
             "endlinecolor": "#2a3f5f",
             "gridcolor": "white",
             "linecolor": "white",
             "minorgridcolor": "white",
             "startlinecolor": "#2a3f5f"
            },
            "type": "carpet"
           }
          ],
          "choropleth": [
           {
            "colorbar": {
             "outlinewidth": 0,
             "ticks": ""
            },
            "type": "choropleth"
           }
          ],
          "contour": [
           {
            "colorbar": {
             "outlinewidth": 0,
             "ticks": ""
            },
            "colorscale": [
             [
              0,
              "#0d0887"
             ],
             [
              0.1111111111111111,
              "#46039f"
             ],
             [
              0.2222222222222222,
              "#7201a8"
             ],
             [
              0.3333333333333333,
              "#9c179e"
             ],
             [
              0.4444444444444444,
              "#bd3786"
             ],
             [
              0.5555555555555556,
              "#d8576b"
             ],
             [
              0.6666666666666666,
              "#ed7953"
             ],
             [
              0.7777777777777778,
              "#fb9f3a"
             ],
             [
              0.8888888888888888,
              "#fdca26"
             ],
             [
              1,
              "#f0f921"
             ]
            ],
            "type": "contour"
           }
          ],
          "contourcarpet": [
           {
            "colorbar": {
             "outlinewidth": 0,
             "ticks": ""
            },
            "type": "contourcarpet"
           }
          ],
          "heatmap": [
           {
            "colorbar": {
             "outlinewidth": 0,
             "ticks": ""
            },
            "colorscale": [
             [
              0,
              "#0d0887"
             ],
             [
              0.1111111111111111,
              "#46039f"
             ],
             [
              0.2222222222222222,
              "#7201a8"
             ],
             [
              0.3333333333333333,
              "#9c179e"
             ],
             [
              0.4444444444444444,
              "#bd3786"
             ],
             [
              0.5555555555555556,
              "#d8576b"
             ],
             [
              0.6666666666666666,
              "#ed7953"
             ],
             [
              0.7777777777777778,
              "#fb9f3a"
             ],
             [
              0.8888888888888888,
              "#fdca26"
             ],
             [
              1,
              "#f0f921"
             ]
            ],
            "type": "heatmap"
           }
          ],
          "heatmapgl": [
           {
            "colorbar": {
             "outlinewidth": 0,
             "ticks": ""
            },
            "colorscale": [
             [
              0,
              "#0d0887"
             ],
             [
              0.1111111111111111,
              "#46039f"
             ],
             [
              0.2222222222222222,
              "#7201a8"
             ],
             [
              0.3333333333333333,
              "#9c179e"
             ],
             [
              0.4444444444444444,
              "#bd3786"
             ],
             [
              0.5555555555555556,
              "#d8576b"
             ],
             [
              0.6666666666666666,
              "#ed7953"
             ],
             [
              0.7777777777777778,
              "#fb9f3a"
             ],
             [
              0.8888888888888888,
              "#fdca26"
             ],
             [
              1,
              "#f0f921"
             ]
            ],
            "type": "heatmapgl"
           }
          ],
          "histogram": [
           {
            "marker": {
             "pattern": {
              "fillmode": "overlay",
              "size": 10,
              "solidity": 0.2
             }
            },
            "type": "histogram"
           }
          ],
          "histogram2d": [
           {
            "colorbar": {
             "outlinewidth": 0,
             "ticks": ""
            },
            "colorscale": [
             [
              0,
              "#0d0887"
             ],
             [
              0.1111111111111111,
              "#46039f"
             ],
             [
              0.2222222222222222,
              "#7201a8"
             ],
             [
              0.3333333333333333,
              "#9c179e"
             ],
             [
              0.4444444444444444,
              "#bd3786"
             ],
             [
              0.5555555555555556,
              "#d8576b"
             ],
             [
              0.6666666666666666,
              "#ed7953"
             ],
             [
              0.7777777777777778,
              "#fb9f3a"
             ],
             [
              0.8888888888888888,
              "#fdca26"
             ],
             [
              1,
              "#f0f921"
             ]
            ],
            "type": "histogram2d"
           }
          ],
          "histogram2dcontour": [
           {
            "colorbar": {
             "outlinewidth": 0,
             "ticks": ""
            },
            "colorscale": [
             [
              0,
              "#0d0887"
             ],
             [
              0.1111111111111111,
              "#46039f"
             ],
             [
              0.2222222222222222,
              "#7201a8"
             ],
             [
              0.3333333333333333,
              "#9c179e"
             ],
             [
              0.4444444444444444,
              "#bd3786"
             ],
             [
              0.5555555555555556,
              "#d8576b"
             ],
             [
              0.6666666666666666,
              "#ed7953"
             ],
             [
              0.7777777777777778,
              "#fb9f3a"
             ],
             [
              0.8888888888888888,
              "#fdca26"
             ],
             [
              1,
              "#f0f921"
             ]
            ],
            "type": "histogram2dcontour"
           }
          ],
          "mesh3d": [
           {
            "colorbar": {
             "outlinewidth": 0,
             "ticks": ""
            },
            "type": "mesh3d"
           }
          ],
          "parcoords": [
           {
            "line": {
             "colorbar": {
              "outlinewidth": 0,
              "ticks": ""
             }
            },
            "type": "parcoords"
           }
          ],
          "pie": [
           {
            "automargin": true,
            "type": "pie"
           }
          ],
          "scatter": [
           {
            "fillpattern": {
             "fillmode": "overlay",
             "size": 10,
             "solidity": 0.2
            },
            "type": "scatter"
           }
          ],
          "scatter3d": [
           {
            "line": {
             "colorbar": {
              "outlinewidth": 0,
              "ticks": ""
             }
            },
            "marker": {
             "colorbar": {
              "outlinewidth": 0,
              "ticks": ""
             }
            },
            "type": "scatter3d"
           }
          ],
          "scattercarpet": [
           {
            "marker": {
             "colorbar": {
              "outlinewidth": 0,
              "ticks": ""
             }
            },
            "type": "scattercarpet"
           }
          ],
          "scattergeo": [
           {
            "marker": {
             "colorbar": {
              "outlinewidth": 0,
              "ticks": ""
             }
            },
            "type": "scattergeo"
           }
          ],
          "scattergl": [
           {
            "marker": {
             "colorbar": {
              "outlinewidth": 0,
              "ticks": ""
             }
            },
            "type": "scattergl"
           }
          ],
          "scattermapbox": [
           {
            "marker": {
             "colorbar": {
              "outlinewidth": 0,
              "ticks": ""
             }
            },
            "type": "scattermapbox"
           }
          ],
          "scatterpolar": [
           {
            "marker": {
             "colorbar": {
              "outlinewidth": 0,
              "ticks": ""
             }
            },
            "type": "scatterpolar"
           }
          ],
          "scatterpolargl": [
           {
            "marker": {
             "colorbar": {
              "outlinewidth": 0,
              "ticks": ""
             }
            },
            "type": "scatterpolargl"
           }
          ],
          "scatterternary": [
           {
            "marker": {
             "colorbar": {
              "outlinewidth": 0,
              "ticks": ""
             }
            },
            "type": "scatterternary"
           }
          ],
          "surface": [
           {
            "colorbar": {
             "outlinewidth": 0,
             "ticks": ""
            },
            "colorscale": [
             [
              0,
              "#0d0887"
             ],
             [
              0.1111111111111111,
              "#46039f"
             ],
             [
              0.2222222222222222,
              "#7201a8"
             ],
             [
              0.3333333333333333,
              "#9c179e"
             ],
             [
              0.4444444444444444,
              "#bd3786"
             ],
             [
              0.5555555555555556,
              "#d8576b"
             ],
             [
              0.6666666666666666,
              "#ed7953"
             ],
             [
              0.7777777777777778,
              "#fb9f3a"
             ],
             [
              0.8888888888888888,
              "#fdca26"
             ],
             [
              1,
              "#f0f921"
             ]
            ],
            "type": "surface"
           }
          ],
          "table": [
           {
            "cells": {
             "fill": {
              "color": "#EBF0F8"
             },
             "line": {
              "color": "white"
             }
            },
            "header": {
             "fill": {
              "color": "#C8D4E3"
             },
             "line": {
              "color": "white"
             }
            },
            "type": "table"
           }
          ]
         },
         "layout": {
          "annotationdefaults": {
           "arrowcolor": "#2a3f5f",
           "arrowhead": 0,
           "arrowwidth": 1
          },
          "autotypenumbers": "strict",
          "coloraxis": {
           "colorbar": {
            "outlinewidth": 0,
            "ticks": ""
           }
          },
          "colorscale": {
           "diverging": [
            [
             0,
             "#8e0152"
            ],
            [
             0.1,
             "#c51b7d"
            ],
            [
             0.2,
             "#de77ae"
            ],
            [
             0.3,
             "#f1b6da"
            ],
            [
             0.4,
             "#fde0ef"
            ],
            [
             0.5,
             "#f7f7f7"
            ],
            [
             0.6,
             "#e6f5d0"
            ],
            [
             0.7,
             "#b8e186"
            ],
            [
             0.8,
             "#7fbc41"
            ],
            [
             0.9,
             "#4d9221"
            ],
            [
             1,
             "#276419"
            ]
           ],
           "sequential": [
            [
             0,
             "#0d0887"
            ],
            [
             0.1111111111111111,
             "#46039f"
            ],
            [
             0.2222222222222222,
             "#7201a8"
            ],
            [
             0.3333333333333333,
             "#9c179e"
            ],
            [
             0.4444444444444444,
             "#bd3786"
            ],
            [
             0.5555555555555556,
             "#d8576b"
            ],
            [
             0.6666666666666666,
             "#ed7953"
            ],
            [
             0.7777777777777778,
             "#fb9f3a"
            ],
            [
             0.8888888888888888,
             "#fdca26"
            ],
            [
             1,
             "#f0f921"
            ]
           ],
           "sequentialminus": [
            [
             0,
             "#0d0887"
            ],
            [
             0.1111111111111111,
             "#46039f"
            ],
            [
             0.2222222222222222,
             "#7201a8"
            ],
            [
             0.3333333333333333,
             "#9c179e"
            ],
            [
             0.4444444444444444,
             "#bd3786"
            ],
            [
             0.5555555555555556,
             "#d8576b"
            ],
            [
             0.6666666666666666,
             "#ed7953"
            ],
            [
             0.7777777777777778,
             "#fb9f3a"
            ],
            [
             0.8888888888888888,
             "#fdca26"
            ],
            [
             1,
             "#f0f921"
            ]
           ]
          },
          "colorway": [
           "#636efa",
           "#EF553B",
           "#00cc96",
           "#ab63fa",
           "#FFA15A",
           "#19d3f3",
           "#FF6692",
           "#B6E880",
           "#FF97FF",
           "#FECB52"
          ],
          "font": {
           "color": "#2a3f5f"
          },
          "geo": {
           "bgcolor": "white",
           "lakecolor": "white",
           "landcolor": "#E5ECF6",
           "showlakes": true,
           "showland": true,
           "subunitcolor": "white"
          },
          "hoverlabel": {
           "align": "left"
          },
          "hovermode": "closest",
          "mapbox": {
           "style": "light"
          },
          "paper_bgcolor": "white",
          "plot_bgcolor": "#E5ECF6",
          "polar": {
           "angularaxis": {
            "gridcolor": "white",
            "linecolor": "white",
            "ticks": ""
           },
           "bgcolor": "#E5ECF6",
           "radialaxis": {
            "gridcolor": "white",
            "linecolor": "white",
            "ticks": ""
           }
          },
          "scene": {
           "xaxis": {
            "backgroundcolor": "#E5ECF6",
            "gridcolor": "white",
            "gridwidth": 2,
            "linecolor": "white",
            "showbackground": true,
            "ticks": "",
            "zerolinecolor": "white"
           },
           "yaxis": {
            "backgroundcolor": "#E5ECF6",
            "gridcolor": "white",
            "gridwidth": 2,
            "linecolor": "white",
            "showbackground": true,
            "ticks": "",
            "zerolinecolor": "white"
           },
           "zaxis": {
            "backgroundcolor": "#E5ECF6",
            "gridcolor": "white",
            "gridwidth": 2,
            "linecolor": "white",
            "showbackground": true,
            "ticks": "",
            "zerolinecolor": "white"
           }
          },
          "shapedefaults": {
           "line": {
            "color": "#2a3f5f"
           }
          },
          "ternary": {
           "aaxis": {
            "gridcolor": "white",
            "linecolor": "white",
            "ticks": ""
           },
           "baxis": {
            "gridcolor": "white",
            "linecolor": "white",
            "ticks": ""
           },
           "bgcolor": "#E5ECF6",
           "caxis": {
            "gridcolor": "white",
            "linecolor": "white",
            "ticks": ""
           }
          },
          "title": {
           "x": 0.05
          },
          "xaxis": {
           "automargin": true,
           "gridcolor": "white",
           "linecolor": "white",
           "ticks": "",
           "title": {
            "standoff": 15
           },
           "zerolinecolor": "white",
           "zerolinewidth": 2
          },
          "yaxis": {
           "automargin": true,
           "gridcolor": "white",
           "linecolor": "white",
           "ticks": "",
           "title": {
            "standoff": 15
           },
           "zerolinecolor": "white",
           "zerolinewidth": 2
          }
         }
        },
        "title": {
         "text": ""
        }
       }
      }
     },
     "metadata": {},
     "output_type": "display_data"
    },
    {
     "data": {
      "text/plain": [
       "{'data': [{'x': Diesel     -1.0\n",
       "   Solar       1.0\n",
       "   Hydrogen    0.0\n",
       "   Name: x, dtype: float64,\n",
       "   'y': Diesel     -0.333333\n",
       "   Solar      -0.333333\n",
       "   Hydrogen    0.666667\n",
       "   Name: y, dtype: float64,\n",
       "   'text': Index(['Bus Diesel', 'Bus Solar', 'Bus Hydrogen'], dtype='object', name='Bus'),\n",
       "   'type': 'scatter',\n",
       "   'mode': 'markers',\n",
       "   'hoverinfo': 'text',\n",
       "   'opacity': 1,\n",
       "   'marker': {'color': 'cadetblue', 'size': 10}},\n",
       "  {'x': Link\n",
       "   Electrolysis    0.5\n",
       "   Fuel Cell       0.5\n",
       "   dtype: float64,\n",
       "   'y': Link\n",
       "   Electrolysis    0.166667\n",
       "   Fuel Cell       0.166667\n",
       "   dtype: float64,\n",
       "   'text': Index(['Link Electrolysis', 'Link Fuel Cell'], dtype='object', name='Link'),\n",
       "   'type': 'scatter',\n",
       "   'mode': 'markers',\n",
       "   'hoverinfo': 'text',\n",
       "   'marker': {'opacity': 0.0}},\n",
       "  {'x': Line\n",
       "   Line    0.0\n",
       "   dtype: float64,\n",
       "   'y': Line\n",
       "   Line   -0.333333\n",
       "   dtype: float64,\n",
       "   'text': Index(['Line Line'], dtype='object', name='Line'),\n",
       "   'type': 'scatter',\n",
       "   'mode': 'markers',\n",
       "   'hoverinfo': 'text',\n",
       "   'marker': {'opacity': 0.0}}],\n",
       " 'layout': {'title': '',\n",
       "  'hovermode': 'closest',\n",
       "  'showlegend': False,\n",
       "  'shapes': [{'type': 'line',\n",
       "    'opacity': 0.8,\n",
       "    'x0': 1.0,\n",
       "    'y0': -0.3333333333333333,\n",
       "    'x1': 0.0,\n",
       "    'y1': 0.6666666666666667,\n",
       "    'line': {'color': 'darkseagreen', 'width': 3}},\n",
       "   {'type': 'line',\n",
       "    'opacity': 0.8,\n",
       "    'x0': 0.0,\n",
       "    'y0': 0.6666666666666667,\n",
       "    'x1': 1.0,\n",
       "    'y1': -0.3333333333333333,\n",
       "    'line': {'color': 'darkseagreen', 'width': 3}},\n",
       "   {'type': 'line',\n",
       "    'opacity': 0.8,\n",
       "    'x0': -1.0,\n",
       "    'y0': -0.3333333333333333,\n",
       "    'x1': 1.0,\n",
       "    'y1': -0.3333333333333333,\n",
       "    'line': {'color': 'rosybrown', 'width': 3}}]}}"
      ]
     },
     "execution_count": 59,
     "metadata": {},
     "output_type": "execute_result"
    }
   ],
   "source": [
    "network.iplot()"
   ]
  },
  {
   "attachments": {},
   "cell_type": "markdown",
   "metadata": {},
   "source": [
    "Οι δύο πρωτες γραφικές αφορούν το σύστημα για ολόκληρο το διάστημα της προσωμόιωσης (5 χρονια, 9 μηνες) και παρατηρούμε ότι το Power to Gas σύστημα δεν λειτουργει.\\\n",
    "Αυτο συμβαίνει διότι με τις σημερινές τιμές των στοιχείων το σύστημα χρησιμοποιεί την ενέργεια απο την γεννητρια diesel ακομα και αν το λειτουργικο της κοστος της ειναι πιο ακριβό, αφού το κόστος κεφαλαίου του ηλεκτρολύτη και του fuel cell ειναι πολυ ακριβά."
   ]
  },
  {
   "cell_type": "code",
   "execution_count": 60,
   "metadata": {},
   "outputs": [
    {
     "data": {
      "text/plain": [
       "<Axes: xlabel='snapshot'>"
      ]
     },
     "execution_count": 60,
     "metadata": {},
     "output_type": "execute_result"
    },
    {
     "data": {
      "image/png": "[encoded data removed]",
      "text/plain": [
       "<Figure size 1000x500 with 1 Axes>"
      ]
     },
     "metadata": {},
     "output_type": "display_data"
    },
    {
     "data": {
      "image/png": "[encoded data removed]",
      "text/plain": [
       "<Figure size 1000x500 with 1 Axes>"
      ]
     },
     "metadata": {},
     "output_type": "display_data"
    }
   ],
   "source": [
    "df=pd.concat([network.generators_t.p, network.links_t.p0, network.loads_t.p],axis=1)\n",
    "df.plot(rot=45)\n",
    "network.stores_t.e.plot(rot=45)"
   ]
  },
  {
   "attachments": {},
   "cell_type": "markdown",
   "metadata": {},
   "source": [
    "Στις παρακάτω γραφικές μπορούμε να δούμε την απόκριση του συστηματος για το διάστημα **'2020-07-22':'2020-07-25'** όπου και είναι εμφανές ότι η γεννήτρια λειτουργεί τα βράδια, που δεν υπάρχει ΦΒ παραγωγή, ώστε να καλύψει το φορτίο, ενώ τα μεσημέρια η γεννήτρια λειτουργεί στο 30% ονομαστικής ισχύος για λόγους ευστάθειας και το ΦΒ πάρκο παράγει ενέργεια και η ενέργεια αυτή προτιμάται καθώς το λειτουργικό της κόστος είναι πιο φθηνό."
   ]
  },
  {
   "cell_type": "code",
   "execution_count": 61,
   "metadata": {},
   "outputs": [
    {
     "data": {
      "text/plain": [
       "<Axes: xlabel='snapshot'>"
      ]
     },
     "execution_count": 61,
     "metadata": {},
     "output_type": "execute_result"
    },
    {
     "data": {
      "image/png": "[encoded data removed]",
      "text/plain": [
       "<Figure size 1000x500 with 1 Axes>"
      ]
     },
     "metadata": {},
     "output_type": "display_data"
    },
    {
     "data": {
      "image/png": "[encoded data removed]",
      "text/plain": [
       "<Figure size 1000x500 with 1 Axes>"
      ]
     },
     "metadata": {},
     "output_type": "display_data"
    }
   ],
   "source": [
    "df=pd.concat([network.generators_t.p, network.links_t.p0, network.loads_t.p],axis=1)\n",
    "df['2020-07-22':'2020-07-25'].plot(rot=45)\n",
    "network.stores_t.e['2020-07-22':'2020-07-25'].plot(rot=45)"
   ]
  }
 ],
 "metadata": {
  "kernelspec": {
   "display_name": "test2",
   "language": "python",
   "name": "python3"
  },
  "language_info": {
   "codemirror_mode": {
    "name": "ipython",
    "version": 3
   },
   "file_extension": ".py",
   "mimetype": "text/x-python",
   "name": "python",
   "nbconvert_exporter": "python",
   "pygments_lexer": "ipython3",
   "version": "3.11.3"
  },
  "orig_nbformat": 4
 },
 "nbformat": 4,
 "nbformat_minor": 2
}
