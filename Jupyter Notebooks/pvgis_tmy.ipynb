{
 "cells": [
  {
   "cell_type": "code",
   "execution_count": 1,
   "metadata": {},
   "outputs": [],
   "source": [
    "import pvlib\n",
    "import pandas as pd\n",
    "import matplotlib.pyplot as plt\n",
    "from pvlib.pvsystem import PVSystem\n",
    "from pvlib.location import Location\n",
    "from pvlib.modelchain import ModelChain\n",
    "from pvlib.temperature import TEMPERATURE_MODEL_PARAMETERS\n",
    "import time\n",
    "import math"
   ]
  },
  {
   "cell_type": "code",
   "execution_count": 2,
   "metadata": {},
   "outputs": [],
   "source": [
    "latitude=37.983810 \n",
    "longitude=23.727539\n",
    "surface_tilt=0 \n",
    "surface_azimuth=180\n",
    "startyear=None\n",
    "endyear=None\n",
    "freq='h'"
   ]
  },
  {
   "cell_type": "code",
   "execution_count": 3,
   "metadata": {},
   "outputs": [
    {
     "name": "stdout",
     "output_type": "stream",
     "text": [
      "6\n"
     ]
    }
   ],
   "source": [
    "def days_between_dates(dt1, dt2):\n",
    "    date_format = \"%Y-%m-%d %H:%M:%S+00:00\"\n",
    "    a = time.mktime(time.strptime(dt1, date_format))\n",
    "    b = time.mktime(time.strptime(dt2, date_format))\n",
    "    delta = abs(b - a)\n",
    "    return delta / (60 * 60 * 24)  # Convert seconds to days\n",
    "\n",
    "data_load = pd.read_csv(fr'C:\\test\\load_data1.csv', parse_dates=True)\n",
    "data_load.set_index(['Datetime'], inplace=True)\n",
    "start=data_load.index[0]\n",
    "end=data_load.index[-1]\n",
    "num_days = days_between_dates(start, end)\n",
    "num_years = math.ceil(num_days / 365)  # Assuming a year has 365 days\n",
    "\n",
    "print(num_years)"
   ]
  },
  {
   "cell_type": "code",
   "execution_count": 137,
   "metadata": {},
   "outputs": [],
   "source": [
    "tmy=pvlib.iotools.get_pvgis_tmy(latitude, \n",
    "                            longitude, \n",
    "                            outputformat='csv', \n",
    "                            usehorizon=True, \n",
    "                            userhorizon=None, \n",
    "                            startyear=startyear, \n",
    "                            endyear=endyear, \n",
    "                            map_variables=True, \n",
    "                            url='https://re.jrc.ec.europa.eu/api/v5_2/', \n",
    "                            timeout=30)[0]\n"
   ]
  },
  {
   "cell_type": "code",
   "execution_count": 138,
   "metadata": {},
   "outputs": [
    {
     "data": {
      "text/plain": [
       "Index(['temp_air', 'relative_humidity', 'ghi', 'dni', 'dhi', 'IR(h)',\n",
       "       'wind_speed', 'wind_direction', 'pressure'],\n",
       "      dtype='object')"
      ]
     },
     "execution_count": 138,
     "metadata": {},
     "output_type": "execute_result"
    }
   ],
   "source": [
    "tmy.columns"
   ]
  },
  {
   "cell_type": "code",
   "execution_count": 139,
   "metadata": {},
   "outputs": [],
   "source": [
    "def extend_tmy_data(df, num_years):\n",
    "    extended_dfs = []\n",
    "    for year_offset in range(int(num_years)):\n",
    "        extended_dfs.append(df.copy())\n",
    "    extended_data = pd.concat(extended_dfs, ignore_index=True)\n",
    "    return extended_data"
   ]
  },
  {
   "cell_type": "code",
   "execution_count": 140,
   "metadata": {},
   "outputs": [
    {
     "data": {
      "text/html": [
       "<div>\n",
       "<style scoped>\n",
       "    .dataframe tbody tr th:only-of-type {\n",
       "        vertical-align: middle;\n",
       "    }\n",
       "\n",
       "    .dataframe tbody tr th {\n",
       "        vertical-align: top;\n",
       "    }\n",
       "\n",
       "    .dataframe thead th {\n",
       "        text-align: right;\n",
       "    }\n",
       "</style>\n",
       "<table border=\"1\" class=\"dataframe\">\n",
       "  <thead>\n",
       "    <tr style=\"text-align: right;\">\n",
       "      <th></th>\n",
       "      <th>temp_air</th>\n",
       "      <th>relative_humidity</th>\n",
       "      <th>ghi</th>\n",
       "      <th>dni</th>\n",
       "      <th>dhi</th>\n",
       "      <th>IR(h)</th>\n",
       "      <th>wind_speed</th>\n",
       "      <th>wind_direction</th>\n",
       "      <th>pressure</th>\n",
       "    </tr>\n",
       "  </thead>\n",
       "  <tbody>\n",
       "    <tr>\n",
       "      <th>2014-12-31 23:00:00+00:00</th>\n",
       "      <td>7.63</td>\n",
       "      <td>85.29</td>\n",
       "      <td>0.0</td>\n",
       "      <td>-0.0</td>\n",
       "      <td>0.0</td>\n",
       "      <td>330.85</td>\n",
       "      <td>5.39</td>\n",
       "      <td>341.0</td>\n",
       "      <td>100604.0</td>\n",
       "    </tr>\n",
       "    <tr>\n",
       "      <th>2015-01-01 00:00:00+00:00</th>\n",
       "      <td>7.53</td>\n",
       "      <td>85.56</td>\n",
       "      <td>0.0</td>\n",
       "      <td>-0.0</td>\n",
       "      <td>0.0</td>\n",
       "      <td>329.04</td>\n",
       "      <td>5.08</td>\n",
       "      <td>345.0</td>\n",
       "      <td>100564.0</td>\n",
       "    </tr>\n",
       "    <tr>\n",
       "      <th>2015-01-01 01:00:00+00:00</th>\n",
       "      <td>7.44</td>\n",
       "      <td>85.83</td>\n",
       "      <td>0.0</td>\n",
       "      <td>-0.0</td>\n",
       "      <td>0.0</td>\n",
       "      <td>327.23</td>\n",
       "      <td>4.77</td>\n",
       "      <td>342.0</td>\n",
       "      <td>100525.0</td>\n",
       "    </tr>\n",
       "    <tr>\n",
       "      <th>2015-01-01 02:00:00+00:00</th>\n",
       "      <td>7.34</td>\n",
       "      <td>86.10</td>\n",
       "      <td>0.0</td>\n",
       "      <td>-0.0</td>\n",
       "      <td>0.0</td>\n",
       "      <td>325.43</td>\n",
       "      <td>4.46</td>\n",
       "      <td>347.0</td>\n",
       "      <td>100455.0</td>\n",
       "    </tr>\n",
       "    <tr>\n",
       "      <th>2015-01-01 03:00:00+00:00</th>\n",
       "      <td>7.24</td>\n",
       "      <td>86.37</td>\n",
       "      <td>0.0</td>\n",
       "      <td>-0.0</td>\n",
       "      <td>0.0</td>\n",
       "      <td>323.62</td>\n",
       "      <td>4.14</td>\n",
       "      <td>350.0</td>\n",
       "      <td>100406.0</td>\n",
       "    </tr>\n",
       "    <tr>\n",
       "      <th>...</th>\n",
       "      <td>...</td>\n",
       "      <td>...</td>\n",
       "      <td>...</td>\n",
       "      <td>...</td>\n",
       "      <td>...</td>\n",
       "      <td>...</td>\n",
       "      <td>...</td>\n",
       "      <td>...</td>\n",
       "      <td>...</td>\n",
       "    </tr>\n",
       "    <tr>\n",
       "      <th>2020-09-30 19:00:00+00:00</th>\n",
       "      <td>20.94</td>\n",
       "      <td>87.65</td>\n",
       "      <td>0.0</td>\n",
       "      <td>-0.0</td>\n",
       "      <td>0.0</td>\n",
       "      <td>358.00</td>\n",
       "      <td>2.21</td>\n",
       "      <td>190.0</td>\n",
       "      <td>100347.0</td>\n",
       "    </tr>\n",
       "    <tr>\n",
       "      <th>2020-09-30 20:00:00+00:00</th>\n",
       "      <td>20.69</td>\n",
       "      <td>89.90</td>\n",
       "      <td>0.0</td>\n",
       "      <td>-0.0</td>\n",
       "      <td>0.0</td>\n",
       "      <td>355.80</td>\n",
       "      <td>2.21</td>\n",
       "      <td>199.0</td>\n",
       "      <td>100307.0</td>\n",
       "    </tr>\n",
       "    <tr>\n",
       "      <th>2020-09-30 21:00:00+00:00</th>\n",
       "      <td>20.46</td>\n",
       "      <td>92.00</td>\n",
       "      <td>0.0</td>\n",
       "      <td>-0.0</td>\n",
       "      <td>0.0</td>\n",
       "      <td>352.40</td>\n",
       "      <td>2.21</td>\n",
       "      <td>201.0</td>\n",
       "      <td>100277.0</td>\n",
       "    </tr>\n",
       "    <tr>\n",
       "      <th>2020-09-30 22:00:00+00:00</th>\n",
       "      <td>20.00</td>\n",
       "      <td>94.10</td>\n",
       "      <td>0.0</td>\n",
       "      <td>-0.0</td>\n",
       "      <td>0.0</td>\n",
       "      <td>350.40</td>\n",
       "      <td>1.93</td>\n",
       "      <td>208.0</td>\n",
       "      <td>100307.0</td>\n",
       "    </tr>\n",
       "    <tr>\n",
       "      <th>2020-09-30 23:00:00+00:00</th>\n",
       "      <td>19.46</td>\n",
       "      <td>95.50</td>\n",
       "      <td>0.0</td>\n",
       "      <td>-0.0</td>\n",
       "      <td>0.0</td>\n",
       "      <td>352.60</td>\n",
       "      <td>1.86</td>\n",
       "      <td>216.0</td>\n",
       "      <td>100248.0</td>\n",
       "    </tr>\n",
       "  </tbody>\n",
       "</table>\n",
       "<p>50401 rows × 9 columns</p>\n",
       "</div>"
      ],
      "text/plain": [
       "                           temp_air  relative_humidity  ghi  dni  dhi   IR(h)   \n",
       "2014-12-31 23:00:00+00:00      7.63              85.29  0.0 -0.0  0.0  330.85  \\\n",
       "2015-01-01 00:00:00+00:00      7.53              85.56  0.0 -0.0  0.0  329.04   \n",
       "2015-01-01 01:00:00+00:00      7.44              85.83  0.0 -0.0  0.0  327.23   \n",
       "2015-01-01 02:00:00+00:00      7.34              86.10  0.0 -0.0  0.0  325.43   \n",
       "2015-01-01 03:00:00+00:00      7.24              86.37  0.0 -0.0  0.0  323.62   \n",
       "...                             ...                ...  ...  ...  ...     ...   \n",
       "2020-09-30 19:00:00+00:00     20.94              87.65  0.0 -0.0  0.0  358.00   \n",
       "2020-09-30 20:00:00+00:00     20.69              89.90  0.0 -0.0  0.0  355.80   \n",
       "2020-09-30 21:00:00+00:00     20.46              92.00  0.0 -0.0  0.0  352.40   \n",
       "2020-09-30 22:00:00+00:00     20.00              94.10  0.0 -0.0  0.0  350.40   \n",
       "2020-09-30 23:00:00+00:00     19.46              95.50  0.0 -0.0  0.0  352.60   \n",
       "\n",
       "                           wind_speed  wind_direction  pressure  \n",
       "2014-12-31 23:00:00+00:00        5.39           341.0  100604.0  \n",
       "2015-01-01 00:00:00+00:00        5.08           345.0  100564.0  \n",
       "2015-01-01 01:00:00+00:00        4.77           342.0  100525.0  \n",
       "2015-01-01 02:00:00+00:00        4.46           347.0  100455.0  \n",
       "2015-01-01 03:00:00+00:00        4.14           350.0  100406.0  \n",
       "...                               ...             ...       ...  \n",
       "2020-09-30 19:00:00+00:00        2.21           190.0  100347.0  \n",
       "2020-09-30 20:00:00+00:00        2.21           199.0  100307.0  \n",
       "2020-09-30 21:00:00+00:00        2.21           201.0  100277.0  \n",
       "2020-09-30 22:00:00+00:00        1.93           208.0  100307.0  \n",
       "2020-09-30 23:00:00+00:00        1.86           216.0  100248.0  \n",
       "\n",
       "[50401 rows x 9 columns]"
      ]
     },
     "execution_count": 140,
     "metadata": {},
     "output_type": "execute_result"
    }
   ],
   "source": [
    "num_years = num_years\n",
    "extended_tmy_data = extend_tmy_data(tmy, num_years)\n",
    "extended_tmy_data.index=pd.date_range(start=start, periods=len(extended_tmy_data), freq=freq)\n",
    "extended_tmy_data_new=extended_tmy_data[start:end]\n",
    "extended_tmy_data_new"
   ]
  },
  {
   "cell_type": "code",
   "execution_count": 141,
   "metadata": {},
   "outputs": [],
   "source": [
    "# extended_tmy_data_new.to_csv('pvgis_tmy.csv', index=True)"
   ]
  },
  {
   "cell_type": "markdown",
   "metadata": {},
   "source": [
    "### **System modelling**"
   ]
  },
  {
   "cell_type": "code",
   "execution_count": 142,
   "metadata": {},
   "outputs": [],
   "source": [
    "module_name = 'Canadian_Solar_CS5P_220M___2009_'\n",
    "inverter_name = 'Power_Electronics__FS3000CU15__690V_' #'ABB__PVS980_58_2000kVA_K__660V_' #'ABB__ULTRA_1100_TL_OUTD_2_US_690_x_y_z__690V_'\n",
    "location=Location(latitude, longitude, tz='Europe/Athens', altitude=100)"
   ]
  },
  {
   "cell_type": "code",
   "execution_count": 143,
   "metadata": {},
   "outputs": [],
   "source": [
    "sandia_modules = pvlib.pvsystem.retrieve_sam('SandiaMod') \n",
    "sapm_inverters = pvlib.pvsystem.retrieve_sam('cecinverter')\n",
    "module = sandia_modules[module_name]\n",
    "inverter = sapm_inverters[inverter_name]\n",
    "temperature_model_parameters = pvlib.temperature.TEMPERATURE_MODEL_PARAMETERS['sapm']['open_rack_glass_glass']"
   ]
  },
  {
   "cell_type": "code",
   "execution_count": 144,
   "metadata": {},
   "outputs": [],
   "source": [
    "system=PVSystem(surface_tilt=surface_tilt, surface_azimuth=surface_azimuth,\n",
    "                module_parameters=module, inverter_parameters=inverter,\n",
    "                temperature_model_parameters=temperature_model_parameters,\n",
    "                modules_per_string=40, strings_per_inverter=250\n",
    "                )\n",
    "modelchain=ModelChain(system, location)"
   ]
  },
  {
   "cell_type": "code",
   "execution_count": 145,
   "metadata": {},
   "outputs": [],
   "source": [
    "# data=pd.read_csv('pvgis_tmy.csv', index_col=0)\n",
    "data=extended_tmy_data_new\n",
    "data.index=pd.to_datetime(data.index)"
   ]
  },
  {
   "cell_type": "code",
   "execution_count": 146,
   "metadata": {},
   "outputs": [],
   "source": [
    "modelchain.run_model(data)\n",
    "solar_data=modelchain.results.ac\n",
    "solar_data=pd.DataFrame(solar_data, columns=(['GR_solar_generation']))\n",
    "\n",
    "solar_data.loc[solar_data['GR_solar_generation'] < 0, 'GR_solar_generation'] = 0\n",
    "solar_data/=1000000\n",
    "solar_data.to_csv('solar_data.csv', index_label=['Datetime'])"
   ]
  },
  {
   "cell_type": "code",
   "execution_count": 147,
   "metadata": {},
   "outputs": [
    {
     "data": {
      "text/html": [
       "<div>\n",
       "<style scoped>\n",
       "    .dataframe tbody tr th:only-of-type {\n",
       "        vertical-align: middle;\n",
       "    }\n",
       "\n",
       "    .dataframe tbody tr th {\n",
       "        vertical-align: top;\n",
       "    }\n",
       "\n",
       "    .dataframe thead th {\n",
       "        text-align: right;\n",
       "    }\n",
       "</style>\n",
       "<table border=\"1\" class=\"dataframe\">\n",
       "  <thead>\n",
       "    <tr style=\"text-align: right;\">\n",
       "      <th></th>\n",
       "      <th>GR_solar_generation</th>\n",
       "    </tr>\n",
       "  </thead>\n",
       "  <tbody>\n",
       "    <tr>\n",
       "      <th>count</th>\n",
       "      <td>50401.000000</td>\n",
       "    </tr>\n",
       "    <tr>\n",
       "      <th>mean</th>\n",
       "      <td>0.398951</td>\n",
       "    </tr>\n",
       "    <tr>\n",
       "      <th>std</th>\n",
       "      <td>0.571551</td>\n",
       "    </tr>\n",
       "    <tr>\n",
       "      <th>min</th>\n",
       "      <td>0.000000</td>\n",
       "    </tr>\n",
       "    <tr>\n",
       "      <th>25%</th>\n",
       "      <td>0.000000</td>\n",
       "    </tr>\n",
       "    <tr>\n",
       "      <th>50%</th>\n",
       "      <td>0.000000</td>\n",
       "    </tr>\n",
       "    <tr>\n",
       "      <th>75%</th>\n",
       "      <td>0.794069</td>\n",
       "    </tr>\n",
       "    <tr>\n",
       "      <th>max</th>\n",
       "      <td>1.879019</td>\n",
       "    </tr>\n",
       "  </tbody>\n",
       "</table>\n",
       "</div>"
      ],
      "text/plain": [
       "       GR_solar_generation\n",
       "count         50401.000000\n",
       "mean              0.398951\n",
       "std               0.571551\n",
       "min               0.000000\n",
       "25%               0.000000\n",
       "50%               0.000000\n",
       "75%               0.794069\n",
       "max               1.879019"
      ]
     },
     "execution_count": 147,
     "metadata": {},
     "output_type": "execute_result"
    }
   ],
   "source": [
    "solar_data.head(20)\n",
    "# solar_data\n",
    "solar_data.describe()"
   ]
  },
  {
   "cell_type": "code",
   "execution_count": 148,
   "metadata": {},
   "outputs": [
    {
     "data": {
      "text/plain": [
       "<Axes: >"
      ]
     },
     "execution_count": 148,
     "metadata": {},
     "output_type": "execute_result"
    },
    {
     "data": {
      "image/png": "[encoded data removed]",
      "text/plain": [
       "<Figure size 640x480 with 1 Axes>"
      ]
     },
     "metadata": {},
     "output_type": "display_data"
    }
   ],
   "source": [
    "solar_data.plot()"
   ]
  }
 ],
 "metadata": {
  "kernelspec": {
   "display_name": "pvlib2",
   "language": "python",
   "name": "python3"
  },
  "language_info": {
   "codemirror_mode": {
    "name": "ipython",
    "version": 3
   },
   "file_extension": ".py",
   "mimetype": "text/x-python",
   "name": "python",
   "nbconvert_exporter": "python",
   "pygments_lexer": "ipython3",
   "version": "3.11.3"
  },
  "orig_nbformat": 4
 },
 "nbformat": 4,
 "nbformat_minor": 2
}
