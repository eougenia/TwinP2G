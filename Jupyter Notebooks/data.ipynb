{
 "cells": [
  {
   "cell_type": "code",
   "execution_count": null,
   "metadata": {},
   "outputs": [],
   "source": [
    "import numpy as np\n",
    "import pandas as pd\n",
    "import datetime"
   ]
  },
  {
   "cell_type": "code",
   "execution_count": null,
   "metadata": {},
   "outputs": [],
   "source": [
    "data=pd.read_csv(\"time_series_60min_singleindex.csv\", parse_dates=True)\n",
    "data.set_index(['utc_timestamp'], inplace=True)\n",
    "data.index=pd.to_datetime(data.index)\n",
    "gr_cols = [col for col in data.columns if col.startswith('GR_')]\n",
    "data=data[gr_cols]\n",
    "# data=data['2020-01-01':'2020-09-30']\n",
    "# data_load=data['GR_load_actual_entsoe_transparency']/2000   #Υποθετω οτι ειναι για 10.000.000/2.000 = 5.000 άτομα\n",
    "# data_pvprod=data['GR_solar_generation_actual']/(2115/5)     #Pload_max=5MW \n",
    "data=data.fillna(method='pad')"
   ]
  },
  {
   "cell_type": "code",
   "execution_count": null,
   "metadata": {},
   "outputs": [],
   "source": [
    "data.tail()"
   ]
  },
  {
   "cell_type": "code",
   "execution_count": null,
   "metadata": {},
   "outputs": [],
   "source": [
    "newdates =pd.date_range(start=datetime.date(2020, 10, 1), end=datetime.date(2035, 12, 31),tz=\"UTC\", freq='H')\n",
    "alldates=data.index.append(newdates)\n",
    "data_new=data.reindex(alldates)\n",
    "data_new.index=pd.to_datetime(data_new.index)\n",
    "data_new['year']=data_new.index.year\n",
    "data_new['month']=data_new.index.month\n",
    "data_new['day']=data_new.index.dayofyear\n",
    "data_new['hour']=data_new.index.hour\n",
    "data_new.describe()"
   ]
  },
  {
   "cell_type": "code",
   "execution_count": null,
   "metadata": {},
   "outputs": [],
   "source": [
    "data_new.tail()"
   ]
  }
 ],
 "metadata": {
  "kernelspec": {
   "display_name": "test2",
   "language": "python",
   "name": "python3"
  },
  "language_info": {
   "name": "python",
   "version": "3.11.3"
  },
  "orig_nbformat": 4
 },
 "nbformat": 4,
 "nbformat_minor": 2
}
