{
 "cells": [
  {
   "cell_type": "code",
   "execution_count": null,
   "metadata": {},
   "outputs": [],
   "source": [
    "import click\n",
    "from ipywidgets import interact, Dropdown, Checkbox, widgets"
   ]
  },
  {
   "cell_type": "code",
   "execution_count": null,
   "metadata": {},
   "outputs": [],
   "source": [
    "# Define your click command function\n",
    "@click.command()\n",
    "@click.option('--name', prompt='Your name', help='Enter your name')\n",
    "def greet_command(name):\n",
    "    click.echo('Hello, {}!'.format(name))"
   ]
  },
  {
   "cell_type": "code",
   "execution_count": null,
   "metadata": {},
   "outputs": [],
   "source": [
    "# Define a separate function to call the click command\n",
    "def greet(name, show_help=False):\n",
    "    global saved_name\n",
    "    saved_name = name\n",
    " \n",
    "    if show_help:\n",
    "        with click.Context(greet_command) as ctx:\n",
    "            click.echo(greet_command.get_help(ctx))\n",
    "    else:\n",
    "        try:\n",
    "            greet_command.main(['--name', name])\n",
    "        except SystemExit:\n",
    "            pass"
   ]
  },
  {
   "cell_type": "code",
   "execution_count": null,
   "metadata": {},
   "outputs": [],
   "source": [
    "# Create an interactive widget to capture the input and show help checkbox\n",
    "show_help_checkbox = Checkbox(description='Show Help')\n",
    "name_input = widgets.Text(description='Your name:')\n",
    "interact(greet, name=name_input, show_help=show_help_checkbox);\n"
   ]
  },
  {
   "cell_type": "code",
   "execution_count": null,
   "metadata": {},
   "outputs": [],
   "source": [
    "saved_name"
   ]
  }
 ],
 "metadata": {
  "kernelspec": {
   "display_name": "test2",
   "language": "python",
   "name": "python3"
  },
  "language_info": {
   "codemirror_mode": {
    "name": "ipython",
    "version": 3
   },
   "file_extension": ".py",
   "mimetype": "text/x-python",
   "name": "python",
   "nbconvert_exporter": "python",
   "pygments_lexer": "ipython3",
   "version": "3.11.3"
  },
  "orig_nbformat": 4
 },
 "nbformat": 4,
 "nbformat_minor": 2
}
