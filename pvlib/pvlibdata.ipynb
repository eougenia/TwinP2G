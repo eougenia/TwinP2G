{
 "cells": [
  {
   "cell_type": "code",
   "execution_count": 43,
   "metadata": {},
   "outputs": [],
   "source": [
    "import pvlib\n",
    "import pandas as pd\n",
    "import matplotlib.pyplot as plt\n",
    "from pvlib.pvsystem import PVSystem\n",
    "from pvlib.location import Location\n",
    "from pvlib.modelchain import ModelChain\n",
    "from pvlib.temperature import TEMPERATURE_MODEL_PARAMETERS"
   ]
  },
  {
   "cell_type": "code",
   "execution_count": 44,
   "metadata": {},
   "outputs": [],
   "source": [
    "latitude=37.983810 \n",
    "longitude=23.727539\n",
    "surface_tilt=0 \n",
    "surface_azimuth=180\n",
    "start=2021\n",
    "end=2021\n",
    "location=Location(latitude, longitude, tz='Europe/Athens', altitude=100)"
   ]
  },
  {
   "cell_type": "code",
   "execution_count": 45,
   "metadata": {},
   "outputs": [],
   "source": [
    "sandia_modules = pvlib.pvsystem.retrieve_sam('SandiaMod') \n",
    "\n",
    "sapm_inverters = pvlib.pvsystem.retrieve_sam('cecinverter')\n",
    "\n",
    "module = sandia_modules['Canadian_Solar_CS5P_220M___2009_']\n",
    "\n",
    "inverter = sapm_inverters['ABB__PVI_10_0_I_OUTD_x_US_208_y__208V_']\t#\n",
    "\n",
    "temperature_model_parameters = pvlib.temperature.TEMPERATURE_MODEL_PARAMETERS['sapm']['open_rack_glass_glass']"
   ]
  },
  {
   "cell_type": "code",
   "execution_count": 46,
   "metadata": {},
   "outputs": [],
   "source": [
    "system=PVSystem(surface_tilt=surface_tilt, surface_azimuth=surface_azimuth,\n",
    "                module_parameters=module, inverter_parameters=inverter,\n",
    "                temperature_model_parameters=temperature_model_parameters,\n",
    "                modules_per_string=20, strings_per_inverter=2\n",
    "                )\n",
    "modelchain=ModelChain(system, location)"
   ]
  },
  {
   "cell_type": "code",
   "execution_count": 47,
   "metadata": {},
   "outputs": [],
   "source": [
    "data=pd.read_csv('pvgis_tmy.csv', index_col=0)\n",
    "data.index=pd.to_datetime(data.index)"
   ]
  },
  {
   "cell_type": "code",
   "execution_count": 48,
   "metadata": {},
   "outputs": [
    {
     "data": {
      "text/html": [
       "<div>\n",
       "<style scoped>\n",
       "    .dataframe tbody tr th:only-of-type {\n",
       "        vertical-align: middle;\n",
       "    }\n",
       "\n",
       "    .dataframe tbody tr th {\n",
       "        vertical-align: top;\n",
       "    }\n",
       "\n",
       "    .dataframe thead th {\n",
       "        text-align: right;\n",
       "    }\n",
       "</style>\n",
       "<table border=\"1\" class=\"dataframe\">\n",
       "  <thead>\n",
       "    <tr style=\"text-align: right;\">\n",
       "      <th></th>\n",
       "      <th>GR_solar_generation</th>\n",
       "    </tr>\n",
       "  </thead>\n",
       "  <tbody>\n",
       "    <tr>\n",
       "      <th>2021-01-01 00:00:00</th>\n",
       "      <td>0.000000</td>\n",
       "    </tr>\n",
       "    <tr>\n",
       "      <th>2021-01-01 01:00:00</th>\n",
       "      <td>0.000000</td>\n",
       "    </tr>\n",
       "    <tr>\n",
       "      <th>2021-01-01 02:00:00</th>\n",
       "      <td>0.000000</td>\n",
       "    </tr>\n",
       "    <tr>\n",
       "      <th>2021-01-01 03:00:00</th>\n",
       "      <td>0.000000</td>\n",
       "    </tr>\n",
       "    <tr>\n",
       "      <th>2021-01-01 04:00:00</th>\n",
       "      <td>0.000000</td>\n",
       "    </tr>\n",
       "    <tr>\n",
       "      <th>2021-01-01 05:00:00</th>\n",
       "      <td>0.000000</td>\n",
       "    </tr>\n",
       "    <tr>\n",
       "      <th>2021-01-01 06:00:00</th>\n",
       "      <td>0.000000</td>\n",
       "    </tr>\n",
       "    <tr>\n",
       "      <th>2021-01-01 07:00:00</th>\n",
       "      <td>1216.571044</td>\n",
       "    </tr>\n",
       "    <tr>\n",
       "      <th>2021-01-01 08:00:00</th>\n",
       "      <td>2433.829108</td>\n",
       "    </tr>\n",
       "    <tr>\n",
       "      <th>2021-01-01 09:00:00</th>\n",
       "      <td>833.745738</td>\n",
       "    </tr>\n",
       "    <tr>\n",
       "      <th>2021-01-01 10:00:00</th>\n",
       "      <td>2458.198981</td>\n",
       "    </tr>\n",
       "    <tr>\n",
       "      <th>2021-01-01 11:00:00</th>\n",
       "      <td>2285.684960</td>\n",
       "    </tr>\n",
       "    <tr>\n",
       "      <th>2021-01-01 12:00:00</th>\n",
       "      <td>2623.103765</td>\n",
       "    </tr>\n",
       "    <tr>\n",
       "      <th>2021-01-01 13:00:00</th>\n",
       "      <td>2186.795097</td>\n",
       "    </tr>\n",
       "    <tr>\n",
       "      <th>2021-01-01 14:00:00</th>\n",
       "      <td>563.487637</td>\n",
       "    </tr>\n",
       "    <tr>\n",
       "      <th>2021-01-01 15:00:00</th>\n",
       "      <td>0.000000</td>\n",
       "    </tr>\n",
       "    <tr>\n",
       "      <th>2021-01-01 16:00:00</th>\n",
       "      <td>0.000000</td>\n",
       "    </tr>\n",
       "    <tr>\n",
       "      <th>2021-01-01 17:00:00</th>\n",
       "      <td>0.000000</td>\n",
       "    </tr>\n",
       "    <tr>\n",
       "      <th>2021-01-01 18:00:00</th>\n",
       "      <td>0.000000</td>\n",
       "    </tr>\n",
       "    <tr>\n",
       "      <th>2021-01-01 19:00:00</th>\n",
       "      <td>0.000000</td>\n",
       "    </tr>\n",
       "  </tbody>\n",
       "</table>\n",
       "</div>"
      ],
      "text/plain": [
       "                     GR_solar_generation\n",
       "2021-01-01 00:00:00             0.000000\n",
       "2021-01-01 01:00:00             0.000000\n",
       "2021-01-01 02:00:00             0.000000\n",
       "2021-01-01 03:00:00             0.000000\n",
       "2021-01-01 04:00:00             0.000000\n",
       "2021-01-01 05:00:00             0.000000\n",
       "2021-01-01 06:00:00             0.000000\n",
       "2021-01-01 07:00:00          1216.571044\n",
       "2021-01-01 08:00:00          2433.829108\n",
       "2021-01-01 09:00:00           833.745738\n",
       "2021-01-01 10:00:00          2458.198981\n",
       "2021-01-01 11:00:00          2285.684960\n",
       "2021-01-01 12:00:00          2623.103765\n",
       "2021-01-01 13:00:00          2186.795097\n",
       "2021-01-01 14:00:00           563.487637\n",
       "2021-01-01 15:00:00             0.000000\n",
       "2021-01-01 16:00:00             0.000000\n",
       "2021-01-01 17:00:00             0.000000\n",
       "2021-01-01 18:00:00             0.000000\n",
       "2021-01-01 19:00:00             0.000000"
      ]
     },
     "execution_count": 48,
     "metadata": {},
     "output_type": "execute_result"
    }
   ],
   "source": [
    "modelchain.run_model(data)\n",
    "solar_data=modelchain.results.ac\n",
    "solar_data=pd.DataFrame(solar_data, columns=(['GR_solar_generation']))\n",
    "\n",
    "solar_data.loc[solar_data['GR_solar_generation'] < 0, 'GR_solar_generation'] = 0\n",
    "solar_data.to_csv(f'C:/test/solar_data.csv', index_label=['Datetime'])\n",
    "solar_data.head(20)"
   ]
  },
  {
   "cell_type": "code",
   "execution_count": 49,
   "metadata": {},
   "outputs": [
    {
     "data": {
      "text/plain": [
       "<Axes: >"
      ]
     },
     "execution_count": 49,
     "metadata": {},
     "output_type": "execute_result"
    },
    {
     "data": {
      "image/png": "[encoded data removed]",
      "text/plain": [
       "<Figure size 640x480 with 1 Axes>"
      ]
     },
     "metadata": {},
     "output_type": "display_data"
    }
   ],
   "source": [
    "# solar_data['2020-07-23':'2020-07-25'].plot()\n",
    "solar_data.plot()"
   ]
  }
 ],
 "metadata": {
  "kernelspec": {
   "display_name": "pvlib2",
   "language": "python",
   "name": "python3"
  },
  "language_info": {
   "codemirror_mode": {
    "name": "ipython",
    "version": 3
   },
   "file_extension": ".py",
   "mimetype": "text/x-python",
   "name": "python",
   "nbconvert_exporter": "python",
   "pygments_lexer": "ipython3",
   "version": "3.10.11"
  },
  "orig_nbformat": 4
 },
 "nbformat": 4,
 "nbformat_minor": 2
}
